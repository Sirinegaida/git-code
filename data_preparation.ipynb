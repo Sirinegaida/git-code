{
  "nbformat": 4,
  "nbformat_minor": 0,
  "metadata": {
    "colab": {
      "provenance": []
    },
    "kernelspec": {
      "name": "python3",
      "display_name": "Python 3"
    },
    "language_info": {
      "name": "python"
    }
  },
  "cells": [
    {
      "cell_type": "code",
      "execution_count": null,
      "metadata": {
        "colab": {
          "base_uri": "https://localhost:8080/"
        },
        "id": "F_r6vSsb9D39",
        "outputId": "9ef49b22-2de3-49ce-e6db-2c89bdcf434b"
      },
      "outputs": [
        {
          "output_type": "stream",
          "name": "stdout",
          "text": [
            "Drive already mounted at /content/drive; to attempt to forcibly remount, call drive.mount(\"/content/drive\", force_remount=True).\n"
          ]
        }
      ],
      "source": [
        "import numpy as np  #to manipulate array dataframes(comes from tables)\n",
        "import pandas as pd  #to manipulate dataframes\n",
        "\n",
        "import seaborn as sns  #for data visualization (provides a variety of visualization patterns as scaterplot and lineplot)\n",
        "import matplotlib.pyplot as plt #for data visualization (Visualization using Matplotlib generally consists of bars,pies,lines,scatter plots)\n",
        "import os  #module for interacting with the native OS Python which is currently running on.\n",
        "\n",
        "from sklearn.utils import shuffle               #to shuffle the data to remove any inherent ordering in the dataset\n",
        "                                                # which can lead to bias in the learning process\n",
        "from sklearn.tree import DecisionTreeRegressor  #importation od decision tree module\n",
        "from sklearn.svm import SVR                     #importation of SVR module\n",
        "from sklearn.ensemble import RandomForestRegressor  #importattion of randomforest regressor module\n",
        "from sklearn.linear_model import LinearRegression, Ridge, Lasso  #importation of linear regression module\n",
        "\n",
        "from sklearn.model_selection import train_test_split #to devide dataframe into testing and training\n",
        "\n",
        "from sklearn.preprocessing import StandardScaler   #for the normalisation of data\n",
        "from sklearn.preprocessing import LabelEncoder     #to convert categorical data into numerical\n",
        "\n",
        "from sklearn.metrics import r2_score   #coefficient of determination (regression score function)\n",
        "from sklearn.metrics import mean_squared_error  #error calculation module\n",
        "from sklearn.model_selection import cross_val_score  #model to evaluate the model Model-evaluation tools\n",
        "from sklearn.metrics import classification_report, confusion_matrix  #to test the performance of the machine learning model\n",
        "from sklearn.model_selection import GridSearchCV,ShuffleSplit    #to determine the best model with the best parameters (model evaluation tool)\n",
        "\n",
        "from sklearn import linear_model  #module it contain different functions for performing machine learning with linear models.\n",
        "                                  #The term linear model implies that the model is specified as a linear combination of features\n",
        "\n",
        "import xgboost as xgb\n",
        "\n",
        "%matplotlib inline\n",
        "\n",
        "from google.colab import drive\n",
        "drive.mount('/content/drive')\n",
        "\n",
        "\n",
        "\n"
      ]
    },
    {
      "cell_type": "code",
      "source": [
        "PATH = '/content/drive/MyDrive/pfetest'\n",
        "\n",
        "os.chdir(PATH)"
      ],
      "metadata": {
        "id": "Llubzanl-cvy"
      },
      "execution_count": null,
      "outputs": []
    },
    {
      "cell_type": "markdown",
      "source": [
        "##Data importation"
      ],
      "metadata": {
        "id": "tDfUgUgb6NeA"
      }
    },
    {
      "cell_type": "code",
      "source": [
        "#importaion of the exel file\n",
        "df = pd.read_excel('output_data.xlsx')\n",
        "#convert the dataframe to a CSV file\n",
        "df.to_csv('output_data.csv', index=False)"
      ],
      "metadata": {
        "id": "WeFnU_ly_SzU"
      },
      "execution_count": null,
      "outputs": []
    },
    {
      "cell_type": "code",
      "source": [
        "df"
      ],
      "metadata": {
        "colab": {
          "base_uri": "https://localhost:8080/",
          "height": 423
        },
        "id": "JNwsxIb5Ax4r",
        "outputId": "b52dc6ea-98be-45b0-9c1e-c91332a29aa8"
      },
      "execution_count": null,
      "outputs": [
        {
          "output_type": "execute_result",
          "data": {
            "text/plain": [
              "                                                  name  price (in $ )  x(mm)  \\\n",
              "0                                            first.stl          33.92  138.0   \n",
              "1                                           hello.step         160.63  240.0   \n",
              "2             7772686460MainAssemblycontrolswitch1.STL         154.38   70.0   \n",
              "3                                           second.stl          43.97   46.5   \n",
              "4    19202101113Prusai3MK3SLaserMountforOptLasersGr...          40.29   85.0   \n",
              "..                                                 ...            ...    ...   \n",
              "462                                       AvionArt.stl         110.46  200.0   \n",
              "463                                           home.stl         376.99  112.5   \n",
              "464                                    Open Source.stl         377.92  210.0   \n",
              "465                                        console.stl         336.70  179.3   \n",
              "466                               Pride Pencil Cups.st         285.66  205.0   \n",
              "\n",
              "     y(mm)  z(mm)  dimension (mm)      Finish technolgy  \\\n",
              "0     34.0   14.5       68034.000  No Finish        FDM   \n",
              "1     70.5   28.0      473760.000  No Finish        FDM   \n",
              "2     60.0   60.0      252000.000  No Finish        FDM   \n",
              "3     45.0   40.8       85374.000  No Finish        FDM   \n",
              "4     42.0   20.0       71400.000  No Finish        FDM   \n",
              "..     ...    ...             ...         ...       ...   \n",
              "462  124.7   56.5     1409110.000  No Finish        FDM   \n",
              "463  101.3   86.9      990334.125  No Finish        FDM   \n",
              "464   96.4   93.5     1892814.000  No Finish        FDM   \n",
              "465  148.2  115.0     3055809.900  No Finish        FDM   \n",
              "466  204.0   43.0     1798260.000  No Finish        FDM   \n",
              "\n",
              "                      material  color     Process  \n",
              "0    ABS(standard transparent)  black  3Dprinting  \n",
              "1                          ABS  black  3Dprinting  \n",
              "2                          ABS  black  3Dprinting  \n",
              "3                          ABS  black  3Dprinting  \n",
              "4                          ABS  black  3Dprinting  \n",
              "..                         ...    ...         ...  \n",
              "462                        ABS  black  3Dprinting  \n",
              "463                        ABS  black  3Dprinting  \n",
              "464                        ABS  black  3Dprinting  \n",
              "465                        ABS  black  3Dprinting  \n",
              "466                        ABS  black  3Dprinting  \n",
              "\n",
              "[467 rows x 11 columns]"
            ],
            "text/html": [
              "\n",
              "  <div id=\"df-1f8f7e32-cfc5-49aa-bc33-2937dab4281f\">\n",
              "    <div class=\"colab-df-container\">\n",
              "      <div>\n",
              "<style scoped>\n",
              "    .dataframe tbody tr th:only-of-type {\n",
              "        vertical-align: middle;\n",
              "    }\n",
              "\n",
              "    .dataframe tbody tr th {\n",
              "        vertical-align: top;\n",
              "    }\n",
              "\n",
              "    .dataframe thead th {\n",
              "        text-align: right;\n",
              "    }\n",
              "</style>\n",
              "<table border=\"1\" class=\"dataframe\">\n",
              "  <thead>\n",
              "    <tr style=\"text-align: right;\">\n",
              "      <th></th>\n",
              "      <th>name</th>\n",
              "      <th>price (in $ )</th>\n",
              "      <th>x(mm)</th>\n",
              "      <th>y(mm)</th>\n",
              "      <th>z(mm)</th>\n",
              "      <th>dimension (mm)</th>\n",
              "      <th>Finish</th>\n",
              "      <th>technolgy</th>\n",
              "      <th>material</th>\n",
              "      <th>color</th>\n",
              "      <th>Process</th>\n",
              "    </tr>\n",
              "  </thead>\n",
              "  <tbody>\n",
              "    <tr>\n",
              "      <th>0</th>\n",
              "      <td>first.stl</td>\n",
              "      <td>33.92</td>\n",
              "      <td>138.0</td>\n",
              "      <td>34.0</td>\n",
              "      <td>14.5</td>\n",
              "      <td>68034.000</td>\n",
              "      <td>No Finish</td>\n",
              "      <td>FDM</td>\n",
              "      <td>ABS(standard transparent)</td>\n",
              "      <td>black</td>\n",
              "      <td>3Dprinting</td>\n",
              "    </tr>\n",
              "    <tr>\n",
              "      <th>1</th>\n",
              "      <td>hello.step</td>\n",
              "      <td>160.63</td>\n",
              "      <td>240.0</td>\n",
              "      <td>70.5</td>\n",
              "      <td>28.0</td>\n",
              "      <td>473760.000</td>\n",
              "      <td>No Finish</td>\n",
              "      <td>FDM</td>\n",
              "      <td>ABS</td>\n",
              "      <td>black</td>\n",
              "      <td>3Dprinting</td>\n",
              "    </tr>\n",
              "    <tr>\n",
              "      <th>2</th>\n",
              "      <td>7772686460MainAssemblycontrolswitch1.STL</td>\n",
              "      <td>154.38</td>\n",
              "      <td>70.0</td>\n",
              "      <td>60.0</td>\n",
              "      <td>60.0</td>\n",
              "      <td>252000.000</td>\n",
              "      <td>No Finish</td>\n",
              "      <td>FDM</td>\n",
              "      <td>ABS</td>\n",
              "      <td>black</td>\n",
              "      <td>3Dprinting</td>\n",
              "    </tr>\n",
              "    <tr>\n",
              "      <th>3</th>\n",
              "      <td>second.stl</td>\n",
              "      <td>43.97</td>\n",
              "      <td>46.5</td>\n",
              "      <td>45.0</td>\n",
              "      <td>40.8</td>\n",
              "      <td>85374.000</td>\n",
              "      <td>No Finish</td>\n",
              "      <td>FDM</td>\n",
              "      <td>ABS</td>\n",
              "      <td>black</td>\n",
              "      <td>3Dprinting</td>\n",
              "    </tr>\n",
              "    <tr>\n",
              "      <th>4</th>\n",
              "      <td>19202101113Prusai3MK3SLaserMountforOptLasersGr...</td>\n",
              "      <td>40.29</td>\n",
              "      <td>85.0</td>\n",
              "      <td>42.0</td>\n",
              "      <td>20.0</td>\n",
              "      <td>71400.000</td>\n",
              "      <td>No Finish</td>\n",
              "      <td>FDM</td>\n",
              "      <td>ABS</td>\n",
              "      <td>black</td>\n",
              "      <td>3Dprinting</td>\n",
              "    </tr>\n",
              "    <tr>\n",
              "      <th>...</th>\n",
              "      <td>...</td>\n",
              "      <td>...</td>\n",
              "      <td>...</td>\n",
              "      <td>...</td>\n",
              "      <td>...</td>\n",
              "      <td>...</td>\n",
              "      <td>...</td>\n",
              "      <td>...</td>\n",
              "      <td>...</td>\n",
              "      <td>...</td>\n",
              "      <td>...</td>\n",
              "    </tr>\n",
              "    <tr>\n",
              "      <th>462</th>\n",
              "      <td>AvionArt.stl</td>\n",
              "      <td>110.46</td>\n",
              "      <td>200.0</td>\n",
              "      <td>124.7</td>\n",
              "      <td>56.5</td>\n",
              "      <td>1409110.000</td>\n",
              "      <td>No Finish</td>\n",
              "      <td>FDM</td>\n",
              "      <td>ABS</td>\n",
              "      <td>black</td>\n",
              "      <td>3Dprinting</td>\n",
              "    </tr>\n",
              "    <tr>\n",
              "      <th>463</th>\n",
              "      <td>home.stl</td>\n",
              "      <td>376.99</td>\n",
              "      <td>112.5</td>\n",
              "      <td>101.3</td>\n",
              "      <td>86.9</td>\n",
              "      <td>990334.125</td>\n",
              "      <td>No Finish</td>\n",
              "      <td>FDM</td>\n",
              "      <td>ABS</td>\n",
              "      <td>black</td>\n",
              "      <td>3Dprinting</td>\n",
              "    </tr>\n",
              "    <tr>\n",
              "      <th>464</th>\n",
              "      <td>Open Source.stl</td>\n",
              "      <td>377.92</td>\n",
              "      <td>210.0</td>\n",
              "      <td>96.4</td>\n",
              "      <td>93.5</td>\n",
              "      <td>1892814.000</td>\n",
              "      <td>No Finish</td>\n",
              "      <td>FDM</td>\n",
              "      <td>ABS</td>\n",
              "      <td>black</td>\n",
              "      <td>3Dprinting</td>\n",
              "    </tr>\n",
              "    <tr>\n",
              "      <th>465</th>\n",
              "      <td>console.stl</td>\n",
              "      <td>336.70</td>\n",
              "      <td>179.3</td>\n",
              "      <td>148.2</td>\n",
              "      <td>115.0</td>\n",
              "      <td>3055809.900</td>\n",
              "      <td>No Finish</td>\n",
              "      <td>FDM</td>\n",
              "      <td>ABS</td>\n",
              "      <td>black</td>\n",
              "      <td>3Dprinting</td>\n",
              "    </tr>\n",
              "    <tr>\n",
              "      <th>466</th>\n",
              "      <td>Pride Pencil Cups.st</td>\n",
              "      <td>285.66</td>\n",
              "      <td>205.0</td>\n",
              "      <td>204.0</td>\n",
              "      <td>43.0</td>\n",
              "      <td>1798260.000</td>\n",
              "      <td>No Finish</td>\n",
              "      <td>FDM</td>\n",
              "      <td>ABS</td>\n",
              "      <td>black</td>\n",
              "      <td>3Dprinting</td>\n",
              "    </tr>\n",
              "  </tbody>\n",
              "</table>\n",
              "<p>467 rows × 11 columns</p>\n",
              "</div>\n",
              "      <button class=\"colab-df-convert\" onclick=\"convertToInteractive('df-1f8f7e32-cfc5-49aa-bc33-2937dab4281f')\"\n",
              "              title=\"Convert this dataframe to an interactive table.\"\n",
              "              style=\"display:none;\">\n",
              "        \n",
              "  <svg xmlns=\"http://www.w3.org/2000/svg\" height=\"24px\"viewBox=\"0 0 24 24\"\n",
              "       width=\"24px\">\n",
              "    <path d=\"M0 0h24v24H0V0z\" fill=\"none\"/>\n",
              "    <path d=\"M18.56 5.44l.94 2.06.94-2.06 2.06-.94-2.06-.94-.94-2.06-.94 2.06-2.06.94zm-11 1L8.5 8.5l.94-2.06 2.06-.94-2.06-.94L8.5 2.5l-.94 2.06-2.06.94zm10 10l.94 2.06.94-2.06 2.06-.94-2.06-.94-.94-2.06-.94 2.06-2.06.94z\"/><path d=\"M17.41 7.96l-1.37-1.37c-.4-.4-.92-.59-1.43-.59-.52 0-1.04.2-1.43.59L10.3 9.45l-7.72 7.72c-.78.78-.78 2.05 0 2.83L4 21.41c.39.39.9.59 1.41.59.51 0 1.02-.2 1.41-.59l7.78-7.78 2.81-2.81c.8-.78.8-2.07 0-2.86zM5.41 20L4 18.59l7.72-7.72 1.47 1.35L5.41 20z\"/>\n",
              "  </svg>\n",
              "      </button>\n",
              "      \n",
              "  <style>\n",
              "    .colab-df-container {\n",
              "      display:flex;\n",
              "      flex-wrap:wrap;\n",
              "      gap: 12px;\n",
              "    }\n",
              "\n",
              "    .colab-df-convert {\n",
              "      background-color: #E8F0FE;\n",
              "      border: none;\n",
              "      border-radius: 50%;\n",
              "      cursor: pointer;\n",
              "      display: none;\n",
              "      fill: #1967D2;\n",
              "      height: 32px;\n",
              "      padding: 0 0 0 0;\n",
              "      width: 32px;\n",
              "    }\n",
              "\n",
              "    .colab-df-convert:hover {\n",
              "      background-color: #E2EBFA;\n",
              "      box-shadow: 0px 1px 2px rgba(60, 64, 67, 0.3), 0px 1px 3px 1px rgba(60, 64, 67, 0.15);\n",
              "      fill: #174EA6;\n",
              "    }\n",
              "\n",
              "    [theme=dark] .colab-df-convert {\n",
              "      background-color: #3B4455;\n",
              "      fill: #D2E3FC;\n",
              "    }\n",
              "\n",
              "    [theme=dark] .colab-df-convert:hover {\n",
              "      background-color: #434B5C;\n",
              "      box-shadow: 0px 1px 3px 1px rgba(0, 0, 0, 0.15);\n",
              "      filter: drop-shadow(0px 1px 2px rgba(0, 0, 0, 0.3));\n",
              "      fill: #FFFFFF;\n",
              "    }\n",
              "  </style>\n",
              "\n",
              "      <script>\n",
              "        const buttonEl =\n",
              "          document.querySelector('#df-1f8f7e32-cfc5-49aa-bc33-2937dab4281f button.colab-df-convert');\n",
              "        buttonEl.style.display =\n",
              "          google.colab.kernel.accessAllowed ? 'block' : 'none';\n",
              "\n",
              "        async function convertToInteractive(key) {\n",
              "          const element = document.querySelector('#df-1f8f7e32-cfc5-49aa-bc33-2937dab4281f');\n",
              "          const dataTable =\n",
              "            await google.colab.kernel.invokeFunction('convertToInteractive',\n",
              "                                                     [key], {});\n",
              "          if (!dataTable) return;\n",
              "\n",
              "          const docLinkHtml = 'Like what you see? Visit the ' +\n",
              "            '<a target=\"_blank\" href=https://colab.research.google.com/notebooks/data_table.ipynb>data table notebook</a>'\n",
              "            + ' to learn more about interactive tables.';\n",
              "          element.innerHTML = '';\n",
              "          dataTable['output_type'] = 'display_data';\n",
              "          await google.colab.output.renderOutput(dataTable, element);\n",
              "          const docLink = document.createElement('div');\n",
              "          docLink.innerHTML = docLinkHtml;\n",
              "          element.appendChild(docLink);\n",
              "        }\n",
              "      </script>\n",
              "    </div>\n",
              "  </div>\n",
              "  "
            ]
          },
          "metadata": {},
          "execution_count": 158
        }
      ]
    },
    {
      "cell_type": "code",
      "source": [
        "df.shape"
      ],
      "metadata": {
        "colab": {
          "base_uri": "https://localhost:8080/"
        },
        "id": "A1EEvjhcOwRE",
        "outputId": "9b10c1c4-3324-4334-eb54-c1320d9ef040"
      },
      "execution_count": null,
      "outputs": [
        {
          "output_type": "execute_result",
          "data": {
            "text/plain": [
              "(467, 11)"
            ]
          },
          "metadata": {},
          "execution_count": 163
        }
      ]
    },
    {
      "cell_type": "code",
      "source": [
        "df.info()"
      ],
      "metadata": {
        "colab": {
          "base_uri": "https://localhost:8080/"
        },
        "id": "hn89WyoTisUv",
        "outputId": "7d249832-0daf-4fbd-e3a0-d6146454021c"
      },
      "execution_count": null,
      "outputs": [
        {
          "output_type": "stream",
          "name": "stdout",
          "text": [
            "<class 'pandas.core.frame.DataFrame'>\n",
            "RangeIndex: 467 entries, 0 to 466\n",
            "Data columns (total 11 columns):\n",
            " #   Column          Non-Null Count  Dtype  \n",
            "---  ------          --------------  -----  \n",
            " 0   name            467 non-null    object \n",
            " 1   price (in $ )   467 non-null    float64\n",
            " 2   x(mm)           467 non-null    float64\n",
            " 3   y(mm)           467 non-null    float64\n",
            " 4   z(mm)           467 non-null    float64\n",
            " 5   dimension (mm)  467 non-null    float64\n",
            " 6   Finish          467 non-null    object \n",
            " 7   technolgy       467 non-null    object \n",
            " 8   material        467 non-null    object \n",
            " 9   color           467 non-null    object \n",
            " 10  Process         467 non-null    object \n",
            "dtypes: float64(5), object(6)\n",
            "memory usage: 40.3+ KB\n"
          ]
        }
      ]
    },
    {
      "cell_type": "markdown",
      "source": [
        "##reading the data\n",
        "##1- finding empty sets\n",
        "##2- اreconnaisane pf data\n",
        "##3- detect the features that creatures the prices"
      ],
      "metadata": {
        "id": "yaCl8_u2HPWE"
      }
    },
    {
      "cell_type": "code",
      "source": [
        "##convert all columns to its type\n",
        "df['name']=df['name'].astype(str)\n",
        "df['Finish']=df['Finish'].astype(str)\n",
        "df['technolgy']=df['technolgy'].astype(str)\n",
        "df['material']=df['material'].astype(str)\n",
        "df['color']=df['color'].astype(str)\n",
        "df['Process']=df['Process'].astype(str)"
      ],
      "metadata": {
        "id": "iX1BG9vw76_M"
      },
      "execution_count": null,
      "outputs": []
    },
    {
      "cell_type": "code",
      "source": [
        "type(df['x(mm)'][0])"
      ],
      "metadata": {
        "colab": {
          "base_uri": "https://localhost:8080/"
        },
        "id": "em_mrneelw3e",
        "outputId": "7ed75626-9301-40b6-e1a6-edd0160df9d0"
      },
      "execution_count": null,
      "outputs": [
        {
          "output_type": "execute_result",
          "data": {
            "text/plain": [
              "numpy.float64"
            ]
          },
          "metadata": {},
          "execution_count": 166
        }
      ]
    },
    {
      "cell_type": "code",
      "source": [
        "type(df['y(mm)'][0])"
      ],
      "metadata": {
        "colab": {
          "base_uri": "https://localhost:8080/"
        },
        "id": "-CWneugMpAUz",
        "outputId": "0a3d5b6d-b2ed-448c-c227-dfbc6ea562c3"
      },
      "execution_count": null,
      "outputs": [
        {
          "output_type": "execute_result",
          "data": {
            "text/plain": [
              "numpy.float64"
            ]
          },
          "metadata": {},
          "execution_count": 167
        }
      ]
    },
    {
      "cell_type": "code",
      "source": [
        "def convert_tofloat(col): #function convert value of object type to float\n",
        "  df[col]=df[col].astype(float)"
      ],
      "metadata": {
        "id": "SDB0RyCplL2F"
      },
      "execution_count": null,
      "outputs": []
    },
    {
      "cell_type": "code",
      "source": [
        "convert_tofloat('x(mm)')\n",
        "convert_tofloat('y(mm)')\n",
        "convert_tofloat('z(mm)')"
      ],
      "metadata": {
        "id": "z7vvwiOvlq2-"
      },
      "execution_count": null,
      "outputs": []
    },
    {
      "cell_type": "code",
      "source": [
        "type(df['x(mm)'][0])"
      ],
      "metadata": {
        "colab": {
          "base_uri": "https://localhost:8080/"
        },
        "id": "p7MEdNBjoAhS",
        "outputId": "2230a945-bfc7-49a6-ae88-d7a645b5a42b"
      },
      "execution_count": null,
      "outputs": [
        {
          "output_type": "execute_result",
          "data": {
            "text/plain": [
              "numpy.float64"
            ]
          },
          "metadata": {},
          "execution_count": 170
        }
      ]
    },
    {
      "cell_type": "code",
      "source": [
        "type(df['y(mm)'][0])"
      ],
      "metadata": {
        "colab": {
          "base_uri": "https://localhost:8080/"
        },
        "id": "DWqLuIXEo59U",
        "outputId": "42fb8027-7203-43fe-ac37-a682bd91d487"
      },
      "execution_count": null,
      "outputs": [
        {
          "output_type": "execute_result",
          "data": {
            "text/plain": [
              "numpy.float64"
            ]
          },
          "metadata": {},
          "execution_count": 171
        }
      ]
    },
    {
      "cell_type": "code",
      "source": [
        "type(df['z(mm)'][0])"
      ],
      "metadata": {
        "colab": {
          "base_uri": "https://localhost:8080/"
        },
        "id": "t1_FiqlK6X5A",
        "outputId": "3ec81459-c092-487d-c4bd-dfd2cd9f6041"
      },
      "execution_count": null,
      "outputs": [
        {
          "output_type": "execute_result",
          "data": {
            "text/plain": [
              "numpy.float64"
            ]
          },
          "metadata": {},
          "execution_count": 172
        }
      ]
    },
    {
      "cell_type": "code",
      "source": [
        "df.info()"
      ],
      "metadata": {
        "colab": {
          "base_uri": "https://localhost:8080/"
        },
        "id": "Q3Pv-jEBRDg5",
        "outputId": "096a3fa4-8db9-4c03-d7a3-bf4f67fcb277"
      },
      "execution_count": null,
      "outputs": [
        {
          "output_type": "stream",
          "name": "stdout",
          "text": [
            "<class 'pandas.core.frame.DataFrame'>\n",
            "RangeIndex: 467 entries, 0 to 466\n",
            "Data columns (total 11 columns):\n",
            " #   Column          Non-Null Count  Dtype  \n",
            "---  ------          --------------  -----  \n",
            " 0   name            467 non-null    object \n",
            " 1   price (in $ )   467 non-null    float64\n",
            " 2   x(mm)           467 non-null    float64\n",
            " 3   y(mm)           467 non-null    float64\n",
            " 4   z(mm)           467 non-null    float64\n",
            " 5   dimension (mm)  467 non-null    float64\n",
            " 6   Finish          467 non-null    object \n",
            " 7   technolgy       467 non-null    object \n",
            " 8   material        467 non-null    object \n",
            " 9   color           467 non-null    object \n",
            " 10  Process         467 non-null    object \n",
            "dtypes: float64(5), object(6)\n",
            "memory usage: 40.3+ KB\n"
          ]
        }
      ]
    },
    {
      "cell_type": "code",
      "source": [
        "#See number of missing value in each column\n",
        "df.isna().sum()"
      ],
      "metadata": {
        "colab": {
          "base_uri": "https://localhost:8080/"
        },
        "id": "tueRAPqV7hxL",
        "outputId": "5d3d5f3c-e3de-459d-d660-9b1ce611034f"
      },
      "execution_count": null,
      "outputs": [
        {
          "output_type": "execute_result",
          "data": {
            "text/plain": [
              "name              0\n",
              "price (in $ )     0\n",
              "x(mm)             0\n",
              "y(mm)             0\n",
              "z(mm)             0\n",
              "dimension (mm)    0\n",
              "Finish            0\n",
              "technolgy         0\n",
              "material          0\n",
              "color             0\n",
              "Process           0\n",
              "dtype: int64"
            ]
          },
          "metadata": {},
          "execution_count": 174
        }
      ]
    },
    {
      "cell_type": "markdown",
      "source": [
        "##function fillna pour fill the null and missing values"
      ],
      "metadata": {
        "id": "_HInRxeX7owi"
      }
    },
    {
      "cell_type": "code",
      "source": [
        "def fillna(df,col):\n",
        "  df[col].fillna(df[col].astype(\"float64\").mean(), inplace = True)"
      ],
      "metadata": {
        "id": "EiiKbhHX7tBK"
      },
      "execution_count": null,
      "outputs": []
    },
    {
      "cell_type": "code",
      "source": [
        "fillna(df,'x(mm)')\n",
        "fillna(df,'y(mm)')\n",
        "fillna(df,'z(mm)')"
      ],
      "metadata": {
        "id": "uCnX2OoU8BZI"
      },
      "execution_count": null,
      "outputs": []
    },
    {
      "cell_type": "code",
      "source": [
        "df.isna().sum()"
      ],
      "metadata": {
        "colab": {
          "base_uri": "https://localhost:8080/"
        },
        "id": "HuChNYQO8TCF",
        "outputId": "7e1e72d4-505e-42f6-c25f-b06d39565361"
      },
      "execution_count": null,
      "outputs": [
        {
          "output_type": "execute_result",
          "data": {
            "text/plain": [
              "name              0\n",
              "price (in $ )     0\n",
              "x(mm)             0\n",
              "y(mm)             0\n",
              "z(mm)             0\n",
              "dimension (mm)    0\n",
              "Finish            0\n",
              "technolgy         0\n",
              "material          0\n",
              "color             0\n",
              "Process           0\n",
              "dtype: int64"
            ]
          },
          "metadata": {},
          "execution_count": 177
        }
      ]
    },
    {
      "cell_type": "code",
      "source": [
        "df.describe()  ##show statics of columns"
      ],
      "metadata": {
        "colab": {
          "base_uri": "https://localhost:8080/",
          "height": 300
        },
        "id": "5Lht7pCosIUW",
        "outputId": "1acd8a67-deb9-4f3f-a8b6-a1ad1a5d9eab"
      },
      "execution_count": null,
      "outputs": [
        {
          "output_type": "execute_result",
          "data": {
            "text/plain": [
              "       price (in $ )       x(mm)       y(mm)       z(mm)  dimension (mm)\n",
              "count     467.000000  467.000000  467.000000  467.000000    4.670000e+02\n",
              "mean       93.118458   96.042529   62.541147   33.884850    5.556200e+05\n",
              "std       160.508857   70.108367   51.271526   36.800105    1.661300e+06\n",
              "min         2.740000    0.700000    0.600000    0.400000    2.100000e-01\n",
              "25%        18.090000   40.050000   24.800000    8.000000    1.324000e+04\n",
              "50%        38.230000   82.000000   48.000000   22.200000    8.537400e+04\n",
              "75%        96.155000  138.000000   86.550000   44.650000    3.949541e+05\n",
              "max      1492.190000  442.900000  345.600000  253.000000    2.362710e+07"
            ],
            "text/html": [
              "\n",
              "  <div id=\"df-fc97133d-da69-4516-b288-c3818e346ead\">\n",
              "    <div class=\"colab-df-container\">\n",
              "      <div>\n",
              "<style scoped>\n",
              "    .dataframe tbody tr th:only-of-type {\n",
              "        vertical-align: middle;\n",
              "    }\n",
              "\n",
              "    .dataframe tbody tr th {\n",
              "        vertical-align: top;\n",
              "    }\n",
              "\n",
              "    .dataframe thead th {\n",
              "        text-align: right;\n",
              "    }\n",
              "</style>\n",
              "<table border=\"1\" class=\"dataframe\">\n",
              "  <thead>\n",
              "    <tr style=\"text-align: right;\">\n",
              "      <th></th>\n",
              "      <th>price (in $ )</th>\n",
              "      <th>x(mm)</th>\n",
              "      <th>y(mm)</th>\n",
              "      <th>z(mm)</th>\n",
              "      <th>dimension (mm)</th>\n",
              "    </tr>\n",
              "  </thead>\n",
              "  <tbody>\n",
              "    <tr>\n",
              "      <th>count</th>\n",
              "      <td>467.000000</td>\n",
              "      <td>467.000000</td>\n",
              "      <td>467.000000</td>\n",
              "      <td>467.000000</td>\n",
              "      <td>4.670000e+02</td>\n",
              "    </tr>\n",
              "    <tr>\n",
              "      <th>mean</th>\n",
              "      <td>93.118458</td>\n",
              "      <td>96.042529</td>\n",
              "      <td>62.541147</td>\n",
              "      <td>33.884850</td>\n",
              "      <td>5.556200e+05</td>\n",
              "    </tr>\n",
              "    <tr>\n",
              "      <th>std</th>\n",
              "      <td>160.508857</td>\n",
              "      <td>70.108367</td>\n",
              "      <td>51.271526</td>\n",
              "      <td>36.800105</td>\n",
              "      <td>1.661300e+06</td>\n",
              "    </tr>\n",
              "    <tr>\n",
              "      <th>min</th>\n",
              "      <td>2.740000</td>\n",
              "      <td>0.700000</td>\n",
              "      <td>0.600000</td>\n",
              "      <td>0.400000</td>\n",
              "      <td>2.100000e-01</td>\n",
              "    </tr>\n",
              "    <tr>\n",
              "      <th>25%</th>\n",
              "      <td>18.090000</td>\n",
              "      <td>40.050000</td>\n",
              "      <td>24.800000</td>\n",
              "      <td>8.000000</td>\n",
              "      <td>1.324000e+04</td>\n",
              "    </tr>\n",
              "    <tr>\n",
              "      <th>50%</th>\n",
              "      <td>38.230000</td>\n",
              "      <td>82.000000</td>\n",
              "      <td>48.000000</td>\n",
              "      <td>22.200000</td>\n",
              "      <td>8.537400e+04</td>\n",
              "    </tr>\n",
              "    <tr>\n",
              "      <th>75%</th>\n",
              "      <td>96.155000</td>\n",
              "      <td>138.000000</td>\n",
              "      <td>86.550000</td>\n",
              "      <td>44.650000</td>\n",
              "      <td>3.949541e+05</td>\n",
              "    </tr>\n",
              "    <tr>\n",
              "      <th>max</th>\n",
              "      <td>1492.190000</td>\n",
              "      <td>442.900000</td>\n",
              "      <td>345.600000</td>\n",
              "      <td>253.000000</td>\n",
              "      <td>2.362710e+07</td>\n",
              "    </tr>\n",
              "  </tbody>\n",
              "</table>\n",
              "</div>\n",
              "      <button class=\"colab-df-convert\" onclick=\"convertToInteractive('df-fc97133d-da69-4516-b288-c3818e346ead')\"\n",
              "              title=\"Convert this dataframe to an interactive table.\"\n",
              "              style=\"display:none;\">\n",
              "        \n",
              "  <svg xmlns=\"http://www.w3.org/2000/svg\" height=\"24px\"viewBox=\"0 0 24 24\"\n",
              "       width=\"24px\">\n",
              "    <path d=\"M0 0h24v24H0V0z\" fill=\"none\"/>\n",
              "    <path d=\"M18.56 5.44l.94 2.06.94-2.06 2.06-.94-2.06-.94-.94-2.06-.94 2.06-2.06.94zm-11 1L8.5 8.5l.94-2.06 2.06-.94-2.06-.94L8.5 2.5l-.94 2.06-2.06.94zm10 10l.94 2.06.94-2.06 2.06-.94-2.06-.94-.94-2.06-.94 2.06-2.06.94z\"/><path d=\"M17.41 7.96l-1.37-1.37c-.4-.4-.92-.59-1.43-.59-.52 0-1.04.2-1.43.59L10.3 9.45l-7.72 7.72c-.78.78-.78 2.05 0 2.83L4 21.41c.39.39.9.59 1.41.59.51 0 1.02-.2 1.41-.59l7.78-7.78 2.81-2.81c.8-.78.8-2.07 0-2.86zM5.41 20L4 18.59l7.72-7.72 1.47 1.35L5.41 20z\"/>\n",
              "  </svg>\n",
              "      </button>\n",
              "      \n",
              "  <style>\n",
              "    .colab-df-container {\n",
              "      display:flex;\n",
              "      flex-wrap:wrap;\n",
              "      gap: 12px;\n",
              "    }\n",
              "\n",
              "    .colab-df-convert {\n",
              "      background-color: #E8F0FE;\n",
              "      border: none;\n",
              "      border-radius: 50%;\n",
              "      cursor: pointer;\n",
              "      display: none;\n",
              "      fill: #1967D2;\n",
              "      height: 32px;\n",
              "      padding: 0 0 0 0;\n",
              "      width: 32px;\n",
              "    }\n",
              "\n",
              "    .colab-df-convert:hover {\n",
              "      background-color: #E2EBFA;\n",
              "      box-shadow: 0px 1px 2px rgba(60, 64, 67, 0.3), 0px 1px 3px 1px rgba(60, 64, 67, 0.15);\n",
              "      fill: #174EA6;\n",
              "    }\n",
              "\n",
              "    [theme=dark] .colab-df-convert {\n",
              "      background-color: #3B4455;\n",
              "      fill: #D2E3FC;\n",
              "    }\n",
              "\n",
              "    [theme=dark] .colab-df-convert:hover {\n",
              "      background-color: #434B5C;\n",
              "      box-shadow: 0px 1px 3px 1px rgba(0, 0, 0, 0.15);\n",
              "      filter: drop-shadow(0px 1px 2px rgba(0, 0, 0, 0.3));\n",
              "      fill: #FFFFFF;\n",
              "    }\n",
              "  </style>\n",
              "\n",
              "      <script>\n",
              "        const buttonEl =\n",
              "          document.querySelector('#df-fc97133d-da69-4516-b288-c3818e346ead button.colab-df-convert');\n",
              "        buttonEl.style.display =\n",
              "          google.colab.kernel.accessAllowed ? 'block' : 'none';\n",
              "\n",
              "        async function convertToInteractive(key) {\n",
              "          const element = document.querySelector('#df-fc97133d-da69-4516-b288-c3818e346ead');\n",
              "          const dataTable =\n",
              "            await google.colab.kernel.invokeFunction('convertToInteractive',\n",
              "                                                     [key], {});\n",
              "          if (!dataTable) return;\n",
              "\n",
              "          const docLinkHtml = 'Like what you see? Visit the ' +\n",
              "            '<a target=\"_blank\" href=https://colab.research.google.com/notebooks/data_table.ipynb>data table notebook</a>'\n",
              "            + ' to learn more about interactive tables.';\n",
              "          element.innerHTML = '';\n",
              "          dataTable['output_type'] = 'display_data';\n",
              "          await google.colab.output.renderOutput(dataTable, element);\n",
              "          const docLink = document.createElement('div');\n",
              "          docLink.innerHTML = docLinkHtml;\n",
              "          element.appendChild(docLink);\n",
              "        }\n",
              "      </script>\n",
              "    </div>\n",
              "  </div>\n",
              "  "
            ]
          },
          "metadata": {},
          "execution_count": 178
        }
      ]
    },
    {
      "cell_type": "code",
      "source": [
        "df['x(mm)']=df['x(mm)'].astype(float)"
      ],
      "metadata": {
        "id": "cte1r5r9_kkL"
      },
      "execution_count": null,
      "outputs": []
    },
    {
      "cell_type": "code",
      "source": [
        "df['y(mm)']=df['y(mm)'].astype(float)"
      ],
      "metadata": {
        "id": "vsTrIWDk_rC_"
      },
      "execution_count": null,
      "outputs": []
    },
    {
      "cell_type": "code",
      "source": [
        "df['z(mm)']=df['z(mm)'].astype(float)"
      ],
      "metadata": {
        "id": "EpkADSss_rpm"
      },
      "execution_count": null,
      "outputs": []
    },
    {
      "cell_type": "code",
      "source": [
        "df.info()"
      ],
      "metadata": {
        "colab": {
          "base_uri": "https://localhost:8080/"
        },
        "id": "QXoDxWld_wV2",
        "outputId": "10d7bb66-a143-43a7-c7d9-d4f67f96def5"
      },
      "execution_count": null,
      "outputs": [
        {
          "output_type": "stream",
          "name": "stdout",
          "text": [
            "<class 'pandas.core.frame.DataFrame'>\n",
            "RangeIndex: 467 entries, 0 to 466\n",
            "Data columns (total 11 columns):\n",
            " #   Column          Non-Null Count  Dtype  \n",
            "---  ------          --------------  -----  \n",
            " 0   name            467 non-null    object \n",
            " 1   price (in $ )   467 non-null    float64\n",
            " 2   x(mm)           467 non-null    float64\n",
            " 3   y(mm)           467 non-null    float64\n",
            " 4   z(mm)           467 non-null    float64\n",
            " 5   dimension (mm)  467 non-null    float64\n",
            " 6   Finish          467 non-null    object \n",
            " 7   technolgy       467 non-null    object \n",
            " 8   material        467 non-null    object \n",
            " 9   color           467 non-null    object \n",
            " 10  Process         467 non-null    object \n",
            "dtypes: float64(5), object(6)\n",
            "memory usage: 40.3+ KB\n"
          ]
        }
      ]
    },
    {
      "cell_type": "code",
      "source": [
        "# calculate the surface values based on other columns\n",
        "surface = df['x(mm)'] * df['y(mm)']* df['z(mm)']\n",
        "# replace the original dimension column with the calculated value\n",
        "df['dimension (mm)'] = surface"
      ],
      "metadata": {
        "id": "QSh0s86qI1cS"
      },
      "execution_count": null,
      "outputs": []
    },
    {
      "cell_type": "code",
      "source": [
        "df.isna().sum()"
      ],
      "metadata": {
        "colab": {
          "base_uri": "https://localhost:8080/"
        },
        "id": "dfPN2uMdMXgF",
        "outputId": "46b8b281-5adf-4da6-cef6-e70e45db6ebf"
      },
      "execution_count": null,
      "outputs": [
        {
          "output_type": "execute_result",
          "data": {
            "text/plain": [
              "name              0\n",
              "price (in $ )     0\n",
              "x(mm)             0\n",
              "y(mm)             0\n",
              "z(mm)             0\n",
              "dimension (mm)    0\n",
              "Finish            0\n",
              "technolgy         0\n",
              "material          0\n",
              "color             0\n",
              "Process           0\n",
              "dtype: int64"
            ]
          },
          "metadata": {},
          "execution_count": 184
        }
      ]
    },
    {
      "cell_type": "markdown",
      "source": [
        "#fill the missing values by imputation with mean (average)"
      ],
      "metadata": {
        "id": "Hi_CF7HX6pnd"
      }
    },
    {
      "cell_type": "code",
      "source": [
        "surface.fillna(surface.astype(\"float64\").mean(), inplace = True)"
      ],
      "metadata": {
        "id": "tNZy-PM-AJum"
      },
      "execution_count": null,
      "outputs": []
    },
    {
      "cell_type": "code",
      "source": [
        "# replace the original dimension column with the calculated value\n",
        "df['dimension (mm)'] = surface\n",
        "df"
      ],
      "metadata": {
        "colab": {
          "base_uri": "https://localhost:8080/",
          "height": 423
        },
        "id": "Yh2QKY3KRlTT",
        "outputId": "079542d0-266b-47ab-bdb7-0c93ca6394bd"
      },
      "execution_count": null,
      "outputs": [
        {
          "output_type": "execute_result",
          "data": {
            "text/plain": [
              "                                                  name  price (in $ )  x(mm)  \\\n",
              "0                                            first.stl          33.92  138.0   \n",
              "1                                           hello.step         160.63  240.0   \n",
              "2             7772686460MainAssemblycontrolswitch1.STL         154.38   70.0   \n",
              "3                                           second.stl          43.97   46.5   \n",
              "4    19202101113Prusai3MK3SLaserMountforOptLasersGr...          40.29   85.0   \n",
              "..                                                 ...            ...    ...   \n",
              "462                                       AvionArt.stl         110.46  200.0   \n",
              "463                                           home.stl         376.99  112.5   \n",
              "464                                    Open Source.stl         377.92  210.0   \n",
              "465                                        console.stl         336.70  179.3   \n",
              "466                               Pride Pencil Cups.st         285.66  205.0   \n",
              "\n",
              "     y(mm)  z(mm)  dimension (mm)      Finish technolgy  \\\n",
              "0     34.0   14.5       68034.000  No Finish        FDM   \n",
              "1     70.5   28.0      473760.000  No Finish        FDM   \n",
              "2     60.0   60.0      252000.000  No Finish        FDM   \n",
              "3     45.0   40.8       85374.000  No Finish        FDM   \n",
              "4     42.0   20.0       71400.000  No Finish        FDM   \n",
              "..     ...    ...             ...         ...       ...   \n",
              "462  124.7   56.5     1409110.000  No Finish        FDM   \n",
              "463  101.3   86.9      990334.125  No Finish        FDM   \n",
              "464   96.4   93.5     1892814.000  No Finish        FDM   \n",
              "465  148.2  115.0     3055809.900  No Finish        FDM   \n",
              "466  204.0   43.0     1798260.000  No Finish        FDM   \n",
              "\n",
              "                      material  color     Process  \n",
              "0    ABS(standard transparent)  black  3Dprinting  \n",
              "1                          ABS  black  3Dprinting  \n",
              "2                          ABS  black  3Dprinting  \n",
              "3                          ABS  black  3Dprinting  \n",
              "4                          ABS  black  3Dprinting  \n",
              "..                         ...    ...         ...  \n",
              "462                        ABS  black  3Dprinting  \n",
              "463                        ABS  black  3Dprinting  \n",
              "464                        ABS  black  3Dprinting  \n",
              "465                        ABS  black  3Dprinting  \n",
              "466                        ABS  black  3Dprinting  \n",
              "\n",
              "[467 rows x 11 columns]"
            ],
            "text/html": [
              "\n",
              "  <div id=\"df-54c8dcde-38e1-4568-b2a7-de85646ff3ac\">\n",
              "    <div class=\"colab-df-container\">\n",
              "      <div>\n",
              "<style scoped>\n",
              "    .dataframe tbody tr th:only-of-type {\n",
              "        vertical-align: middle;\n",
              "    }\n",
              "\n",
              "    .dataframe tbody tr th {\n",
              "        vertical-align: top;\n",
              "    }\n",
              "\n",
              "    .dataframe thead th {\n",
              "        text-align: right;\n",
              "    }\n",
              "</style>\n",
              "<table border=\"1\" class=\"dataframe\">\n",
              "  <thead>\n",
              "    <tr style=\"text-align: right;\">\n",
              "      <th></th>\n",
              "      <th>name</th>\n",
              "      <th>price (in $ )</th>\n",
              "      <th>x(mm)</th>\n",
              "      <th>y(mm)</th>\n",
              "      <th>z(mm)</th>\n",
              "      <th>dimension (mm)</th>\n",
              "      <th>Finish</th>\n",
              "      <th>technolgy</th>\n",
              "      <th>material</th>\n",
              "      <th>color</th>\n",
              "      <th>Process</th>\n",
              "    </tr>\n",
              "  </thead>\n",
              "  <tbody>\n",
              "    <tr>\n",
              "      <th>0</th>\n",
              "      <td>first.stl</td>\n",
              "      <td>33.92</td>\n",
              "      <td>138.0</td>\n",
              "      <td>34.0</td>\n",
              "      <td>14.5</td>\n",
              "      <td>68034.000</td>\n",
              "      <td>No Finish</td>\n",
              "      <td>FDM</td>\n",
              "      <td>ABS(standard transparent)</td>\n",
              "      <td>black</td>\n",
              "      <td>3Dprinting</td>\n",
              "    </tr>\n",
              "    <tr>\n",
              "      <th>1</th>\n",
              "      <td>hello.step</td>\n",
              "      <td>160.63</td>\n",
              "      <td>240.0</td>\n",
              "      <td>70.5</td>\n",
              "      <td>28.0</td>\n",
              "      <td>473760.000</td>\n",
              "      <td>No Finish</td>\n",
              "      <td>FDM</td>\n",
              "      <td>ABS</td>\n",
              "      <td>black</td>\n",
              "      <td>3Dprinting</td>\n",
              "    </tr>\n",
              "    <tr>\n",
              "      <th>2</th>\n",
              "      <td>7772686460MainAssemblycontrolswitch1.STL</td>\n",
              "      <td>154.38</td>\n",
              "      <td>70.0</td>\n",
              "      <td>60.0</td>\n",
              "      <td>60.0</td>\n",
              "      <td>252000.000</td>\n",
              "      <td>No Finish</td>\n",
              "      <td>FDM</td>\n",
              "      <td>ABS</td>\n",
              "      <td>black</td>\n",
              "      <td>3Dprinting</td>\n",
              "    </tr>\n",
              "    <tr>\n",
              "      <th>3</th>\n",
              "      <td>second.stl</td>\n",
              "      <td>43.97</td>\n",
              "      <td>46.5</td>\n",
              "      <td>45.0</td>\n",
              "      <td>40.8</td>\n",
              "      <td>85374.000</td>\n",
              "      <td>No Finish</td>\n",
              "      <td>FDM</td>\n",
              "      <td>ABS</td>\n",
              "      <td>black</td>\n",
              "      <td>3Dprinting</td>\n",
              "    </tr>\n",
              "    <tr>\n",
              "      <th>4</th>\n",
              "      <td>19202101113Prusai3MK3SLaserMountforOptLasersGr...</td>\n",
              "      <td>40.29</td>\n",
              "      <td>85.0</td>\n",
              "      <td>42.0</td>\n",
              "      <td>20.0</td>\n",
              "      <td>71400.000</td>\n",
              "      <td>No Finish</td>\n",
              "      <td>FDM</td>\n",
              "      <td>ABS</td>\n",
              "      <td>black</td>\n",
              "      <td>3Dprinting</td>\n",
              "    </tr>\n",
              "    <tr>\n",
              "      <th>...</th>\n",
              "      <td>...</td>\n",
              "      <td>...</td>\n",
              "      <td>...</td>\n",
              "      <td>...</td>\n",
              "      <td>...</td>\n",
              "      <td>...</td>\n",
              "      <td>...</td>\n",
              "      <td>...</td>\n",
              "      <td>...</td>\n",
              "      <td>...</td>\n",
              "      <td>...</td>\n",
              "    </tr>\n",
              "    <tr>\n",
              "      <th>462</th>\n",
              "      <td>AvionArt.stl</td>\n",
              "      <td>110.46</td>\n",
              "      <td>200.0</td>\n",
              "      <td>124.7</td>\n",
              "      <td>56.5</td>\n",
              "      <td>1409110.000</td>\n",
              "      <td>No Finish</td>\n",
              "      <td>FDM</td>\n",
              "      <td>ABS</td>\n",
              "      <td>black</td>\n",
              "      <td>3Dprinting</td>\n",
              "    </tr>\n",
              "    <tr>\n",
              "      <th>463</th>\n",
              "      <td>home.stl</td>\n",
              "      <td>376.99</td>\n",
              "      <td>112.5</td>\n",
              "      <td>101.3</td>\n",
              "      <td>86.9</td>\n",
              "      <td>990334.125</td>\n",
              "      <td>No Finish</td>\n",
              "      <td>FDM</td>\n",
              "      <td>ABS</td>\n",
              "      <td>black</td>\n",
              "      <td>3Dprinting</td>\n",
              "    </tr>\n",
              "    <tr>\n",
              "      <th>464</th>\n",
              "      <td>Open Source.stl</td>\n",
              "      <td>377.92</td>\n",
              "      <td>210.0</td>\n",
              "      <td>96.4</td>\n",
              "      <td>93.5</td>\n",
              "      <td>1892814.000</td>\n",
              "      <td>No Finish</td>\n",
              "      <td>FDM</td>\n",
              "      <td>ABS</td>\n",
              "      <td>black</td>\n",
              "      <td>3Dprinting</td>\n",
              "    </tr>\n",
              "    <tr>\n",
              "      <th>465</th>\n",
              "      <td>console.stl</td>\n",
              "      <td>336.70</td>\n",
              "      <td>179.3</td>\n",
              "      <td>148.2</td>\n",
              "      <td>115.0</td>\n",
              "      <td>3055809.900</td>\n",
              "      <td>No Finish</td>\n",
              "      <td>FDM</td>\n",
              "      <td>ABS</td>\n",
              "      <td>black</td>\n",
              "      <td>3Dprinting</td>\n",
              "    </tr>\n",
              "    <tr>\n",
              "      <th>466</th>\n",
              "      <td>Pride Pencil Cups.st</td>\n",
              "      <td>285.66</td>\n",
              "      <td>205.0</td>\n",
              "      <td>204.0</td>\n",
              "      <td>43.0</td>\n",
              "      <td>1798260.000</td>\n",
              "      <td>No Finish</td>\n",
              "      <td>FDM</td>\n",
              "      <td>ABS</td>\n",
              "      <td>black</td>\n",
              "      <td>3Dprinting</td>\n",
              "    </tr>\n",
              "  </tbody>\n",
              "</table>\n",
              "<p>467 rows × 11 columns</p>\n",
              "</div>\n",
              "      <button class=\"colab-df-convert\" onclick=\"convertToInteractive('df-54c8dcde-38e1-4568-b2a7-de85646ff3ac')\"\n",
              "              title=\"Convert this dataframe to an interactive table.\"\n",
              "              style=\"display:none;\">\n",
              "        \n",
              "  <svg xmlns=\"http://www.w3.org/2000/svg\" height=\"24px\"viewBox=\"0 0 24 24\"\n",
              "       width=\"24px\">\n",
              "    <path d=\"M0 0h24v24H0V0z\" fill=\"none\"/>\n",
              "    <path d=\"M18.56 5.44l.94 2.06.94-2.06 2.06-.94-2.06-.94-.94-2.06-.94 2.06-2.06.94zm-11 1L8.5 8.5l.94-2.06 2.06-.94-2.06-.94L8.5 2.5l-.94 2.06-2.06.94zm10 10l.94 2.06.94-2.06 2.06-.94-2.06-.94-.94-2.06-.94 2.06-2.06.94z\"/><path d=\"M17.41 7.96l-1.37-1.37c-.4-.4-.92-.59-1.43-.59-.52 0-1.04.2-1.43.59L10.3 9.45l-7.72 7.72c-.78.78-.78 2.05 0 2.83L4 21.41c.39.39.9.59 1.41.59.51 0 1.02-.2 1.41-.59l7.78-7.78 2.81-2.81c.8-.78.8-2.07 0-2.86zM5.41 20L4 18.59l7.72-7.72 1.47 1.35L5.41 20z\"/>\n",
              "  </svg>\n",
              "      </button>\n",
              "      \n",
              "  <style>\n",
              "    .colab-df-container {\n",
              "      display:flex;\n",
              "      flex-wrap:wrap;\n",
              "      gap: 12px;\n",
              "    }\n",
              "\n",
              "    .colab-df-convert {\n",
              "      background-color: #E8F0FE;\n",
              "      border: none;\n",
              "      border-radius: 50%;\n",
              "      cursor: pointer;\n",
              "      display: none;\n",
              "      fill: #1967D2;\n",
              "      height: 32px;\n",
              "      padding: 0 0 0 0;\n",
              "      width: 32px;\n",
              "    }\n",
              "\n",
              "    .colab-df-convert:hover {\n",
              "      background-color: #E2EBFA;\n",
              "      box-shadow: 0px 1px 2px rgba(60, 64, 67, 0.3), 0px 1px 3px 1px rgba(60, 64, 67, 0.15);\n",
              "      fill: #174EA6;\n",
              "    }\n",
              "\n",
              "    [theme=dark] .colab-df-convert {\n",
              "      background-color: #3B4455;\n",
              "      fill: #D2E3FC;\n",
              "    }\n",
              "\n",
              "    [theme=dark] .colab-df-convert:hover {\n",
              "      background-color: #434B5C;\n",
              "      box-shadow: 0px 1px 3px 1px rgba(0, 0, 0, 0.15);\n",
              "      filter: drop-shadow(0px 1px 2px rgba(0, 0, 0, 0.3));\n",
              "      fill: #FFFFFF;\n",
              "    }\n",
              "  </style>\n",
              "\n",
              "      <script>\n",
              "        const buttonEl =\n",
              "          document.querySelector('#df-54c8dcde-38e1-4568-b2a7-de85646ff3ac button.colab-df-convert');\n",
              "        buttonEl.style.display =\n",
              "          google.colab.kernel.accessAllowed ? 'block' : 'none';\n",
              "\n",
              "        async function convertToInteractive(key) {\n",
              "          const element = document.querySelector('#df-54c8dcde-38e1-4568-b2a7-de85646ff3ac');\n",
              "          const dataTable =\n",
              "            await google.colab.kernel.invokeFunction('convertToInteractive',\n",
              "                                                     [key], {});\n",
              "          if (!dataTable) return;\n",
              "\n",
              "          const docLinkHtml = 'Like what you see? Visit the ' +\n",
              "            '<a target=\"_blank\" href=https://colab.research.google.com/notebooks/data_table.ipynb>data table notebook</a>'\n",
              "            + ' to learn more about interactive tables.';\n",
              "          element.innerHTML = '';\n",
              "          dataTable['output_type'] = 'display_data';\n",
              "          await google.colab.output.renderOutput(dataTable, element);\n",
              "          const docLink = document.createElement('div');\n",
              "          docLink.innerHTML = docLinkHtml;\n",
              "          element.appendChild(docLink);\n",
              "        }\n",
              "      </script>\n",
              "    </div>\n",
              "  </div>\n",
              "  "
            ]
          },
          "metadata": {},
          "execution_count": 186
        }
      ]
    },
    {
      "cell_type": "code",
      "source": [
        "df.isna().sum()"
      ],
      "metadata": {
        "colab": {
          "base_uri": "https://localhost:8080/"
        },
        "id": "Gv9KpQWYAkPZ",
        "outputId": "cd6a628e-72c5-4ff8-87c1-90e569f2c30a"
      },
      "execution_count": null,
      "outputs": [
        {
          "output_type": "execute_result",
          "data": {
            "text/plain": [
              "name              0\n",
              "price (in $ )     0\n",
              "x(mm)             0\n",
              "y(mm)             0\n",
              "z(mm)             0\n",
              "dimension (mm)    0\n",
              "Finish            0\n",
              "technolgy         0\n",
              "material          0\n",
              "color             0\n",
              "Process           0\n",
              "dtype: int64"
            ]
          },
          "metadata": {},
          "execution_count": 187
        }
      ]
    },
    {
      "cell_type": "code",
      "source": [
        "df.info()"
      ],
      "metadata": {
        "colab": {
          "base_uri": "https://localhost:8080/"
        },
        "id": "9A1VyiynNRSn",
        "outputId": "af9f0673-b813-4276-db36-87ed7d15e302"
      },
      "execution_count": null,
      "outputs": [
        {
          "output_type": "stream",
          "name": "stdout",
          "text": [
            "<class 'pandas.core.frame.DataFrame'>\n",
            "RangeIndex: 467 entries, 0 to 466\n",
            "Data columns (total 11 columns):\n",
            " #   Column          Non-Null Count  Dtype  \n",
            "---  ------          --------------  -----  \n",
            " 0   name            467 non-null    object \n",
            " 1   price (in $ )   467 non-null    float64\n",
            " 2   x(mm)           467 non-null    float64\n",
            " 3   y(mm)           467 non-null    float64\n",
            " 4   z(mm)           467 non-null    float64\n",
            " 5   dimension (mm)  467 non-null    float64\n",
            " 6   Finish          467 non-null    object \n",
            " 7   technolgy       467 non-null    object \n",
            " 8   material        467 non-null    object \n",
            " 9   color           467 non-null    object \n",
            " 10  Process         467 non-null    object \n",
            "dtypes: float64(5), object(6)\n",
            "memory usage: 40.3+ KB\n"
          ]
        }
      ]
    },
    {
      "cell_type": "code",
      "source": [
        "##convert dimension for removing the comma and any extra text\n",
        "\n",
        "df['dimension (mm)'] =df['dimension (mm)'].astype(str).str.replace(',', '.')\n",
        "df['x(mm)'] =df['x(mm)'].astype(str).str.replace(',', '.')\n",
        "df['y(mm)'] =df['y(mm)'].astype(str).str.replace(',', '.')\n",
        "df['z(mm)'] =df['z(mm)'].astype(str).str.replace(',', '.')\n",
        "df"
      ],
      "metadata": {
        "colab": {
          "base_uri": "https://localhost:8080/",
          "height": 423
        },
        "id": "-NvrHieBkmcS",
        "outputId": "5aac7521-3149-4db2-9588-554baeef8e78"
      },
      "execution_count": null,
      "outputs": [
        {
          "output_type": "execute_result",
          "data": {
            "text/plain": [
              "                                                  name  price (in $ )  x(mm)  \\\n",
              "0                                            first.stl          33.92  138.0   \n",
              "1                                           hello.step         160.63  240.0   \n",
              "2             7772686460MainAssemblycontrolswitch1.STL         154.38   70.0   \n",
              "3                                           second.stl          43.97   46.5   \n",
              "4    19202101113Prusai3MK3SLaserMountforOptLasersGr...          40.29   85.0   \n",
              "..                                                 ...            ...    ...   \n",
              "462                                       AvionArt.stl         110.46  200.0   \n",
              "463                                           home.stl         376.99  112.5   \n",
              "464                                    Open Source.stl         377.92  210.0   \n",
              "465                                        console.stl         336.70  179.3   \n",
              "466                               Pride Pencil Cups.st         285.66  205.0   \n",
              "\n",
              "     y(mm)  z(mm)     dimension (mm)      Finish technolgy  \\\n",
              "0     34.0   14.5            68034.0  No Finish        FDM   \n",
              "1     70.5   28.0           473760.0  No Finish        FDM   \n",
              "2     60.0   60.0           252000.0  No Finish        FDM   \n",
              "3     45.0   40.8            85374.0  No Finish        FDM   \n",
              "4     42.0   20.0            71400.0  No Finish        FDM   \n",
              "..     ...    ...                ...         ...       ...   \n",
              "462  124.7   56.5          1409110.0  No Finish        FDM   \n",
              "463  101.3   86.9  990334.1250000001  No Finish        FDM   \n",
              "464   96.4   93.5          1892814.0  No Finish        FDM   \n",
              "465  148.2  115.0          3055809.9  No Finish        FDM   \n",
              "466  204.0   43.0          1798260.0  No Finish        FDM   \n",
              "\n",
              "                      material  color     Process  \n",
              "0    ABS(standard transparent)  black  3Dprinting  \n",
              "1                          ABS  black  3Dprinting  \n",
              "2                          ABS  black  3Dprinting  \n",
              "3                          ABS  black  3Dprinting  \n",
              "4                          ABS  black  3Dprinting  \n",
              "..                         ...    ...         ...  \n",
              "462                        ABS  black  3Dprinting  \n",
              "463                        ABS  black  3Dprinting  \n",
              "464                        ABS  black  3Dprinting  \n",
              "465                        ABS  black  3Dprinting  \n",
              "466                        ABS  black  3Dprinting  \n",
              "\n",
              "[467 rows x 11 columns]"
            ],
            "text/html": [
              "\n",
              "  <div id=\"df-9c3e21f8-ef65-4e1f-84e5-439e1f9bfde8\">\n",
              "    <div class=\"colab-df-container\">\n",
              "      <div>\n",
              "<style scoped>\n",
              "    .dataframe tbody tr th:only-of-type {\n",
              "        vertical-align: middle;\n",
              "    }\n",
              "\n",
              "    .dataframe tbody tr th {\n",
              "        vertical-align: top;\n",
              "    }\n",
              "\n",
              "    .dataframe thead th {\n",
              "        text-align: right;\n",
              "    }\n",
              "</style>\n",
              "<table border=\"1\" class=\"dataframe\">\n",
              "  <thead>\n",
              "    <tr style=\"text-align: right;\">\n",
              "      <th></th>\n",
              "      <th>name</th>\n",
              "      <th>price (in $ )</th>\n",
              "      <th>x(mm)</th>\n",
              "      <th>y(mm)</th>\n",
              "      <th>z(mm)</th>\n",
              "      <th>dimension (mm)</th>\n",
              "      <th>Finish</th>\n",
              "      <th>technolgy</th>\n",
              "      <th>material</th>\n",
              "      <th>color</th>\n",
              "      <th>Process</th>\n",
              "    </tr>\n",
              "  </thead>\n",
              "  <tbody>\n",
              "    <tr>\n",
              "      <th>0</th>\n",
              "      <td>first.stl</td>\n",
              "      <td>33.92</td>\n",
              "      <td>138.0</td>\n",
              "      <td>34.0</td>\n",
              "      <td>14.5</td>\n",
              "      <td>68034.0</td>\n",
              "      <td>No Finish</td>\n",
              "      <td>FDM</td>\n",
              "      <td>ABS(standard transparent)</td>\n",
              "      <td>black</td>\n",
              "      <td>3Dprinting</td>\n",
              "    </tr>\n",
              "    <tr>\n",
              "      <th>1</th>\n",
              "      <td>hello.step</td>\n",
              "      <td>160.63</td>\n",
              "      <td>240.0</td>\n",
              "      <td>70.5</td>\n",
              "      <td>28.0</td>\n",
              "      <td>473760.0</td>\n",
              "      <td>No Finish</td>\n",
              "      <td>FDM</td>\n",
              "      <td>ABS</td>\n",
              "      <td>black</td>\n",
              "      <td>3Dprinting</td>\n",
              "    </tr>\n",
              "    <tr>\n",
              "      <th>2</th>\n",
              "      <td>7772686460MainAssemblycontrolswitch1.STL</td>\n",
              "      <td>154.38</td>\n",
              "      <td>70.0</td>\n",
              "      <td>60.0</td>\n",
              "      <td>60.0</td>\n",
              "      <td>252000.0</td>\n",
              "      <td>No Finish</td>\n",
              "      <td>FDM</td>\n",
              "      <td>ABS</td>\n",
              "      <td>black</td>\n",
              "      <td>3Dprinting</td>\n",
              "    </tr>\n",
              "    <tr>\n",
              "      <th>3</th>\n",
              "      <td>second.stl</td>\n",
              "      <td>43.97</td>\n",
              "      <td>46.5</td>\n",
              "      <td>45.0</td>\n",
              "      <td>40.8</td>\n",
              "      <td>85374.0</td>\n",
              "      <td>No Finish</td>\n",
              "      <td>FDM</td>\n",
              "      <td>ABS</td>\n",
              "      <td>black</td>\n",
              "      <td>3Dprinting</td>\n",
              "    </tr>\n",
              "    <tr>\n",
              "      <th>4</th>\n",
              "      <td>19202101113Prusai3MK3SLaserMountforOptLasersGr...</td>\n",
              "      <td>40.29</td>\n",
              "      <td>85.0</td>\n",
              "      <td>42.0</td>\n",
              "      <td>20.0</td>\n",
              "      <td>71400.0</td>\n",
              "      <td>No Finish</td>\n",
              "      <td>FDM</td>\n",
              "      <td>ABS</td>\n",
              "      <td>black</td>\n",
              "      <td>3Dprinting</td>\n",
              "    </tr>\n",
              "    <tr>\n",
              "      <th>...</th>\n",
              "      <td>...</td>\n",
              "      <td>...</td>\n",
              "      <td>...</td>\n",
              "      <td>...</td>\n",
              "      <td>...</td>\n",
              "      <td>...</td>\n",
              "      <td>...</td>\n",
              "      <td>...</td>\n",
              "      <td>...</td>\n",
              "      <td>...</td>\n",
              "      <td>...</td>\n",
              "    </tr>\n",
              "    <tr>\n",
              "      <th>462</th>\n",
              "      <td>AvionArt.stl</td>\n",
              "      <td>110.46</td>\n",
              "      <td>200.0</td>\n",
              "      <td>124.7</td>\n",
              "      <td>56.5</td>\n",
              "      <td>1409110.0</td>\n",
              "      <td>No Finish</td>\n",
              "      <td>FDM</td>\n",
              "      <td>ABS</td>\n",
              "      <td>black</td>\n",
              "      <td>3Dprinting</td>\n",
              "    </tr>\n",
              "    <tr>\n",
              "      <th>463</th>\n",
              "      <td>home.stl</td>\n",
              "      <td>376.99</td>\n",
              "      <td>112.5</td>\n",
              "      <td>101.3</td>\n",
              "      <td>86.9</td>\n",
              "      <td>990334.1250000001</td>\n",
              "      <td>No Finish</td>\n",
              "      <td>FDM</td>\n",
              "      <td>ABS</td>\n",
              "      <td>black</td>\n",
              "      <td>3Dprinting</td>\n",
              "    </tr>\n",
              "    <tr>\n",
              "      <th>464</th>\n",
              "      <td>Open Source.stl</td>\n",
              "      <td>377.92</td>\n",
              "      <td>210.0</td>\n",
              "      <td>96.4</td>\n",
              "      <td>93.5</td>\n",
              "      <td>1892814.0</td>\n",
              "      <td>No Finish</td>\n",
              "      <td>FDM</td>\n",
              "      <td>ABS</td>\n",
              "      <td>black</td>\n",
              "      <td>3Dprinting</td>\n",
              "    </tr>\n",
              "    <tr>\n",
              "      <th>465</th>\n",
              "      <td>console.stl</td>\n",
              "      <td>336.70</td>\n",
              "      <td>179.3</td>\n",
              "      <td>148.2</td>\n",
              "      <td>115.0</td>\n",
              "      <td>3055809.9</td>\n",
              "      <td>No Finish</td>\n",
              "      <td>FDM</td>\n",
              "      <td>ABS</td>\n",
              "      <td>black</td>\n",
              "      <td>3Dprinting</td>\n",
              "    </tr>\n",
              "    <tr>\n",
              "      <th>466</th>\n",
              "      <td>Pride Pencil Cups.st</td>\n",
              "      <td>285.66</td>\n",
              "      <td>205.0</td>\n",
              "      <td>204.0</td>\n",
              "      <td>43.0</td>\n",
              "      <td>1798260.0</td>\n",
              "      <td>No Finish</td>\n",
              "      <td>FDM</td>\n",
              "      <td>ABS</td>\n",
              "      <td>black</td>\n",
              "      <td>3Dprinting</td>\n",
              "    </tr>\n",
              "  </tbody>\n",
              "</table>\n",
              "<p>467 rows × 11 columns</p>\n",
              "</div>\n",
              "      <button class=\"colab-df-convert\" onclick=\"convertToInteractive('df-9c3e21f8-ef65-4e1f-84e5-439e1f9bfde8')\"\n",
              "              title=\"Convert this dataframe to an interactive table.\"\n",
              "              style=\"display:none;\">\n",
              "        \n",
              "  <svg xmlns=\"http://www.w3.org/2000/svg\" height=\"24px\"viewBox=\"0 0 24 24\"\n",
              "       width=\"24px\">\n",
              "    <path d=\"M0 0h24v24H0V0z\" fill=\"none\"/>\n",
              "    <path d=\"M18.56 5.44l.94 2.06.94-2.06 2.06-.94-2.06-.94-.94-2.06-.94 2.06-2.06.94zm-11 1L8.5 8.5l.94-2.06 2.06-.94-2.06-.94L8.5 2.5l-.94 2.06-2.06.94zm10 10l.94 2.06.94-2.06 2.06-.94-2.06-.94-.94-2.06-.94 2.06-2.06.94z\"/><path d=\"M17.41 7.96l-1.37-1.37c-.4-.4-.92-.59-1.43-.59-.52 0-1.04.2-1.43.59L10.3 9.45l-7.72 7.72c-.78.78-.78 2.05 0 2.83L4 21.41c.39.39.9.59 1.41.59.51 0 1.02-.2 1.41-.59l7.78-7.78 2.81-2.81c.8-.78.8-2.07 0-2.86zM5.41 20L4 18.59l7.72-7.72 1.47 1.35L5.41 20z\"/>\n",
              "  </svg>\n",
              "      </button>\n",
              "      \n",
              "  <style>\n",
              "    .colab-df-container {\n",
              "      display:flex;\n",
              "      flex-wrap:wrap;\n",
              "      gap: 12px;\n",
              "    }\n",
              "\n",
              "    .colab-df-convert {\n",
              "      background-color: #E8F0FE;\n",
              "      border: none;\n",
              "      border-radius: 50%;\n",
              "      cursor: pointer;\n",
              "      display: none;\n",
              "      fill: #1967D2;\n",
              "      height: 32px;\n",
              "      padding: 0 0 0 0;\n",
              "      width: 32px;\n",
              "    }\n",
              "\n",
              "    .colab-df-convert:hover {\n",
              "      background-color: #E2EBFA;\n",
              "      box-shadow: 0px 1px 2px rgba(60, 64, 67, 0.3), 0px 1px 3px 1px rgba(60, 64, 67, 0.15);\n",
              "      fill: #174EA6;\n",
              "    }\n",
              "\n",
              "    [theme=dark] .colab-df-convert {\n",
              "      background-color: #3B4455;\n",
              "      fill: #D2E3FC;\n",
              "    }\n",
              "\n",
              "    [theme=dark] .colab-df-convert:hover {\n",
              "      background-color: #434B5C;\n",
              "      box-shadow: 0px 1px 3px 1px rgba(0, 0, 0, 0.15);\n",
              "      filter: drop-shadow(0px 1px 2px rgba(0, 0, 0, 0.3));\n",
              "      fill: #FFFFFF;\n",
              "    }\n",
              "  </style>\n",
              "\n",
              "      <script>\n",
              "        const buttonEl =\n",
              "          document.querySelector('#df-9c3e21f8-ef65-4e1f-84e5-439e1f9bfde8 button.colab-df-convert');\n",
              "        buttonEl.style.display =\n",
              "          google.colab.kernel.accessAllowed ? 'block' : 'none';\n",
              "\n",
              "        async function convertToInteractive(key) {\n",
              "          const element = document.querySelector('#df-9c3e21f8-ef65-4e1f-84e5-439e1f9bfde8');\n",
              "          const dataTable =\n",
              "            await google.colab.kernel.invokeFunction('convertToInteractive',\n",
              "                                                     [key], {});\n",
              "          if (!dataTable) return;\n",
              "\n",
              "          const docLinkHtml = 'Like what you see? Visit the ' +\n",
              "            '<a target=\"_blank\" href=https://colab.research.google.com/notebooks/data_table.ipynb>data table notebook</a>'\n",
              "            + ' to learn more about interactive tables.';\n",
              "          element.innerHTML = '';\n",
              "          dataTable['output_type'] = 'display_data';\n",
              "          await google.colab.output.renderOutput(dataTable, element);\n",
              "          const docLink = document.createElement('div');\n",
              "          docLink.innerHTML = docLinkHtml;\n",
              "          element.appendChild(docLink);\n",
              "        }\n",
              "      </script>\n",
              "    </div>\n",
              "  </div>\n",
              "  "
            ]
          },
          "metadata": {},
          "execution_count": 189
        }
      ]
    },
    {
      "cell_type": "code",
      "source": [
        "# write the updated dataframe to a new CSV file\n",
        "df.to_excel('output_data.xlsx', index=False)"
      ],
      "metadata": {
        "id": "HZShsYSPR3OR"
      },
      "execution_count": null,
      "outputs": []
    },
    {
      "cell_type": "code",
      "source": [
        "# download the excel file\n",
        "from google.colab import files\n",
        "\n",
        "files.download('output_data.xlsx')"
      ],
      "metadata": {
        "colab": {
          "base_uri": "https://localhost:8080/",
          "height": 17
        },
        "id": "jDCVilsQSS3R",
        "outputId": "c282d9b8-0572-4c7e-9e51-1ca4939fc35a"
      },
      "execution_count": null,
      "outputs": [
        {
          "output_type": "display_data",
          "data": {
            "text/plain": [
              "<IPython.core.display.Javascript object>"
            ],
            "application/javascript": [
              "\n",
              "    async function download(id, filename, size) {\n",
              "      if (!google.colab.kernel.accessAllowed) {\n",
              "        return;\n",
              "      }\n",
              "      const div = document.createElement('div');\n",
              "      const label = document.createElement('label');\n",
              "      label.textContent = `Downloading \"${filename}\": `;\n",
              "      div.appendChild(label);\n",
              "      const progress = document.createElement('progress');\n",
              "      progress.max = size;\n",
              "      div.appendChild(progress);\n",
              "      document.body.appendChild(div);\n",
              "\n",
              "      const buffers = [];\n",
              "      let downloaded = 0;\n",
              "\n",
              "      const channel = await google.colab.kernel.comms.open(id);\n",
              "      // Send a message to notify the kernel that we're ready.\n",
              "      channel.send({})\n",
              "\n",
              "      for await (const message of channel.messages) {\n",
              "        // Send a message to notify the kernel that we're ready.\n",
              "        channel.send({})\n",
              "        if (message.buffers) {\n",
              "          for (const buffer of message.buffers) {\n",
              "            buffers.push(buffer);\n",
              "            downloaded += buffer.byteLength;\n",
              "            progress.value = downloaded;\n",
              "          }\n",
              "        }\n",
              "      }\n",
              "      const blob = new Blob(buffers, {type: 'application/binary'});\n",
              "      const a = document.createElement('a');\n",
              "      a.href = window.URL.createObjectURL(blob);\n",
              "      a.download = filename;\n",
              "      div.appendChild(a);\n",
              "      a.click();\n",
              "      div.remove();\n",
              "    }\n",
              "  "
            ]
          },
          "metadata": {}
        },
        {
          "output_type": "display_data",
          "data": {
            "text/plain": [
              "<IPython.core.display.Javascript object>"
            ],
            "application/javascript": [
              "download(\"download_29003308-1810-4a4e-8776-70f1ed9e606e\", \"output_data.xlsx\", 35256)"
            ]
          },
          "metadata": {}
        }
      ]
    },
    {
      "cell_type": "markdown",
      "source": [
        "###upload the file without ,"
      ],
      "metadata": {
        "id": "7lREj1HSRqjq"
      }
    },
    {
      "cell_type": "code",
      "source": [
        "PATH = '/content/drive/MyDrive/pfetest/'\n",
        "\n",
        "os.chdir(PATH)"
      ],
      "metadata": {
        "id": "tEbCl24LRznJ"
      },
      "execution_count": null,
      "outputs": []
    },
    {
      "cell_type": "code",
      "source": [
        "df=pd.read_excel(PATH + 'output_data.xlsx')"
      ],
      "metadata": {
        "id": "nMNau2e5WsX8"
      },
      "execution_count": null,
      "outputs": []
    },
    {
      "cell_type": "code",
      "source": [
        "df"
      ],
      "metadata": {
        "colab": {
          "base_uri": "https://localhost:8080/",
          "height": 423
        },
        "id": "KBILcZFQ-nDL",
        "outputId": "7db7772a-db5f-4c95-a5b7-d6989fbf2d02"
      },
      "execution_count": null,
      "outputs": [
        {
          "output_type": "execute_result",
          "data": {
            "text/plain": [
              "                                                  name  price (in $ )  x(mm)  \\\n",
              "0                                            first.stl          33.92  138.0   \n",
              "1                                           hello.step         160.63  240.0   \n",
              "2             7772686460MainAssemblycontrolswitch1.STL         154.38   70.0   \n",
              "3                                           second.stl          43.97   46.5   \n",
              "4    19202101113Prusai3MK3SLaserMountforOptLasersGr...          40.29   85.0   \n",
              "..                                                 ...            ...    ...   \n",
              "462                                       AvionArt.stl         110.46  200.0   \n",
              "463                                           home.stl         376.99  112.5   \n",
              "464                                    Open Source.stl         377.92  210.0   \n",
              "465                                        console.stl         336.70  179.3   \n",
              "466                               Pride Pencil Cups.st         285.66  205.0   \n",
              "\n",
              "     y(mm)  z(mm)  dimension (mm)      Finish technolgy  \\\n",
              "0     34.0   14.5       68034.000  No Finish        FDM   \n",
              "1     70.5   28.0      473760.000  No Finish        FDM   \n",
              "2     60.0   60.0      252000.000  No Finish        FDM   \n",
              "3     45.0   40.8       85374.000  No Finish        FDM   \n",
              "4     42.0   20.0       71400.000  No Finish        FDM   \n",
              "..     ...    ...             ...         ...       ...   \n",
              "462  124.7   56.5     1409110.000  No Finish        FDM   \n",
              "463  101.3   86.9      990334.125  No Finish        FDM   \n",
              "464   96.4   93.5     1892814.000  No Finish        FDM   \n",
              "465  148.2  115.0     3055809.900  No Finish        FDM   \n",
              "466  204.0   43.0     1798260.000  No Finish        FDM   \n",
              "\n",
              "                      material  color     Process  \n",
              "0    ABS(standard transparent)  black  3Dprinting  \n",
              "1                          ABS  black  3Dprinting  \n",
              "2                          ABS  black  3Dprinting  \n",
              "3                          ABS  black  3Dprinting  \n",
              "4                          ABS  black  3Dprinting  \n",
              "..                         ...    ...         ...  \n",
              "462                        ABS  black  3Dprinting  \n",
              "463                        ABS  black  3Dprinting  \n",
              "464                        ABS  black  3Dprinting  \n",
              "465                        ABS  black  3Dprinting  \n",
              "466                        ABS  black  3Dprinting  \n",
              "\n",
              "[467 rows x 11 columns]"
            ],
            "text/html": [
              "\n",
              "  <div id=\"df-3e328b3e-a8e3-4222-b65b-99b0a5402c8c\">\n",
              "    <div class=\"colab-df-container\">\n",
              "      <div>\n",
              "<style scoped>\n",
              "    .dataframe tbody tr th:only-of-type {\n",
              "        vertical-align: middle;\n",
              "    }\n",
              "\n",
              "    .dataframe tbody tr th {\n",
              "        vertical-align: top;\n",
              "    }\n",
              "\n",
              "    .dataframe thead th {\n",
              "        text-align: right;\n",
              "    }\n",
              "</style>\n",
              "<table border=\"1\" class=\"dataframe\">\n",
              "  <thead>\n",
              "    <tr style=\"text-align: right;\">\n",
              "      <th></th>\n",
              "      <th>name</th>\n",
              "      <th>price (in $ )</th>\n",
              "      <th>x(mm)</th>\n",
              "      <th>y(mm)</th>\n",
              "      <th>z(mm)</th>\n",
              "      <th>dimension (mm)</th>\n",
              "      <th>Finish</th>\n",
              "      <th>technolgy</th>\n",
              "      <th>material</th>\n",
              "      <th>color</th>\n",
              "      <th>Process</th>\n",
              "    </tr>\n",
              "  </thead>\n",
              "  <tbody>\n",
              "    <tr>\n",
              "      <th>0</th>\n",
              "      <td>first.stl</td>\n",
              "      <td>33.92</td>\n",
              "      <td>138.0</td>\n",
              "      <td>34.0</td>\n",
              "      <td>14.5</td>\n",
              "      <td>68034.000</td>\n",
              "      <td>No Finish</td>\n",
              "      <td>FDM</td>\n",
              "      <td>ABS(standard transparent)</td>\n",
              "      <td>black</td>\n",
              "      <td>3Dprinting</td>\n",
              "    </tr>\n",
              "    <tr>\n",
              "      <th>1</th>\n",
              "      <td>hello.step</td>\n",
              "      <td>160.63</td>\n",
              "      <td>240.0</td>\n",
              "      <td>70.5</td>\n",
              "      <td>28.0</td>\n",
              "      <td>473760.000</td>\n",
              "      <td>No Finish</td>\n",
              "      <td>FDM</td>\n",
              "      <td>ABS</td>\n",
              "      <td>black</td>\n",
              "      <td>3Dprinting</td>\n",
              "    </tr>\n",
              "    <tr>\n",
              "      <th>2</th>\n",
              "      <td>7772686460MainAssemblycontrolswitch1.STL</td>\n",
              "      <td>154.38</td>\n",
              "      <td>70.0</td>\n",
              "      <td>60.0</td>\n",
              "      <td>60.0</td>\n",
              "      <td>252000.000</td>\n",
              "      <td>No Finish</td>\n",
              "      <td>FDM</td>\n",
              "      <td>ABS</td>\n",
              "      <td>black</td>\n",
              "      <td>3Dprinting</td>\n",
              "    </tr>\n",
              "    <tr>\n",
              "      <th>3</th>\n",
              "      <td>second.stl</td>\n",
              "      <td>43.97</td>\n",
              "      <td>46.5</td>\n",
              "      <td>45.0</td>\n",
              "      <td>40.8</td>\n",
              "      <td>85374.000</td>\n",
              "      <td>No Finish</td>\n",
              "      <td>FDM</td>\n",
              "      <td>ABS</td>\n",
              "      <td>black</td>\n",
              "      <td>3Dprinting</td>\n",
              "    </tr>\n",
              "    <tr>\n",
              "      <th>4</th>\n",
              "      <td>19202101113Prusai3MK3SLaserMountforOptLasersGr...</td>\n",
              "      <td>40.29</td>\n",
              "      <td>85.0</td>\n",
              "      <td>42.0</td>\n",
              "      <td>20.0</td>\n",
              "      <td>71400.000</td>\n",
              "      <td>No Finish</td>\n",
              "      <td>FDM</td>\n",
              "      <td>ABS</td>\n",
              "      <td>black</td>\n",
              "      <td>3Dprinting</td>\n",
              "    </tr>\n",
              "    <tr>\n",
              "      <th>...</th>\n",
              "      <td>...</td>\n",
              "      <td>...</td>\n",
              "      <td>...</td>\n",
              "      <td>...</td>\n",
              "      <td>...</td>\n",
              "      <td>...</td>\n",
              "      <td>...</td>\n",
              "      <td>...</td>\n",
              "      <td>...</td>\n",
              "      <td>...</td>\n",
              "      <td>...</td>\n",
              "    </tr>\n",
              "    <tr>\n",
              "      <th>462</th>\n",
              "      <td>AvionArt.stl</td>\n",
              "      <td>110.46</td>\n",
              "      <td>200.0</td>\n",
              "      <td>124.7</td>\n",
              "      <td>56.5</td>\n",
              "      <td>1409110.000</td>\n",
              "      <td>No Finish</td>\n",
              "      <td>FDM</td>\n",
              "      <td>ABS</td>\n",
              "      <td>black</td>\n",
              "      <td>3Dprinting</td>\n",
              "    </tr>\n",
              "    <tr>\n",
              "      <th>463</th>\n",
              "      <td>home.stl</td>\n",
              "      <td>376.99</td>\n",
              "      <td>112.5</td>\n",
              "      <td>101.3</td>\n",
              "      <td>86.9</td>\n",
              "      <td>990334.125</td>\n",
              "      <td>No Finish</td>\n",
              "      <td>FDM</td>\n",
              "      <td>ABS</td>\n",
              "      <td>black</td>\n",
              "      <td>3Dprinting</td>\n",
              "    </tr>\n",
              "    <tr>\n",
              "      <th>464</th>\n",
              "      <td>Open Source.stl</td>\n",
              "      <td>377.92</td>\n",
              "      <td>210.0</td>\n",
              "      <td>96.4</td>\n",
              "      <td>93.5</td>\n",
              "      <td>1892814.000</td>\n",
              "      <td>No Finish</td>\n",
              "      <td>FDM</td>\n",
              "      <td>ABS</td>\n",
              "      <td>black</td>\n",
              "      <td>3Dprinting</td>\n",
              "    </tr>\n",
              "    <tr>\n",
              "      <th>465</th>\n",
              "      <td>console.stl</td>\n",
              "      <td>336.70</td>\n",
              "      <td>179.3</td>\n",
              "      <td>148.2</td>\n",
              "      <td>115.0</td>\n",
              "      <td>3055809.900</td>\n",
              "      <td>No Finish</td>\n",
              "      <td>FDM</td>\n",
              "      <td>ABS</td>\n",
              "      <td>black</td>\n",
              "      <td>3Dprinting</td>\n",
              "    </tr>\n",
              "    <tr>\n",
              "      <th>466</th>\n",
              "      <td>Pride Pencil Cups.st</td>\n",
              "      <td>285.66</td>\n",
              "      <td>205.0</td>\n",
              "      <td>204.0</td>\n",
              "      <td>43.0</td>\n",
              "      <td>1798260.000</td>\n",
              "      <td>No Finish</td>\n",
              "      <td>FDM</td>\n",
              "      <td>ABS</td>\n",
              "      <td>black</td>\n",
              "      <td>3Dprinting</td>\n",
              "    </tr>\n",
              "  </tbody>\n",
              "</table>\n",
              "<p>467 rows × 11 columns</p>\n",
              "</div>\n",
              "      <button class=\"colab-df-convert\" onclick=\"convertToInteractive('df-3e328b3e-a8e3-4222-b65b-99b0a5402c8c')\"\n",
              "              title=\"Convert this dataframe to an interactive table.\"\n",
              "              style=\"display:none;\">\n",
              "        \n",
              "  <svg xmlns=\"http://www.w3.org/2000/svg\" height=\"24px\"viewBox=\"0 0 24 24\"\n",
              "       width=\"24px\">\n",
              "    <path d=\"M0 0h24v24H0V0z\" fill=\"none\"/>\n",
              "    <path d=\"M18.56 5.44l.94 2.06.94-2.06 2.06-.94-2.06-.94-.94-2.06-.94 2.06-2.06.94zm-11 1L8.5 8.5l.94-2.06 2.06-.94-2.06-.94L8.5 2.5l-.94 2.06-2.06.94zm10 10l.94 2.06.94-2.06 2.06-.94-2.06-.94-.94-2.06-.94 2.06-2.06.94z\"/><path d=\"M17.41 7.96l-1.37-1.37c-.4-.4-.92-.59-1.43-.59-.52 0-1.04.2-1.43.59L10.3 9.45l-7.72 7.72c-.78.78-.78 2.05 0 2.83L4 21.41c.39.39.9.59 1.41.59.51 0 1.02-.2 1.41-.59l7.78-7.78 2.81-2.81c.8-.78.8-2.07 0-2.86zM5.41 20L4 18.59l7.72-7.72 1.47 1.35L5.41 20z\"/>\n",
              "  </svg>\n",
              "      </button>\n",
              "      \n",
              "  <style>\n",
              "    .colab-df-container {\n",
              "      display:flex;\n",
              "      flex-wrap:wrap;\n",
              "      gap: 12px;\n",
              "    }\n",
              "\n",
              "    .colab-df-convert {\n",
              "      background-color: #E8F0FE;\n",
              "      border: none;\n",
              "      border-radius: 50%;\n",
              "      cursor: pointer;\n",
              "      display: none;\n",
              "      fill: #1967D2;\n",
              "      height: 32px;\n",
              "      padding: 0 0 0 0;\n",
              "      width: 32px;\n",
              "    }\n",
              "\n",
              "    .colab-df-convert:hover {\n",
              "      background-color: #E2EBFA;\n",
              "      box-shadow: 0px 1px 2px rgba(60, 64, 67, 0.3), 0px 1px 3px 1px rgba(60, 64, 67, 0.15);\n",
              "      fill: #174EA6;\n",
              "    }\n",
              "\n",
              "    [theme=dark] .colab-df-convert {\n",
              "      background-color: #3B4455;\n",
              "      fill: #D2E3FC;\n",
              "    }\n",
              "\n",
              "    [theme=dark] .colab-df-convert:hover {\n",
              "      background-color: #434B5C;\n",
              "      box-shadow: 0px 1px 3px 1px rgba(0, 0, 0, 0.15);\n",
              "      filter: drop-shadow(0px 1px 2px rgba(0, 0, 0, 0.3));\n",
              "      fill: #FFFFFF;\n",
              "    }\n",
              "  </style>\n",
              "\n",
              "      <script>\n",
              "        const buttonEl =\n",
              "          document.querySelector('#df-3e328b3e-a8e3-4222-b65b-99b0a5402c8c button.colab-df-convert');\n",
              "        buttonEl.style.display =\n",
              "          google.colab.kernel.accessAllowed ? 'block' : 'none';\n",
              "\n",
              "        async function convertToInteractive(key) {\n",
              "          const element = document.querySelector('#df-3e328b3e-a8e3-4222-b65b-99b0a5402c8c');\n",
              "          const dataTable =\n",
              "            await google.colab.kernel.invokeFunction('convertToInteractive',\n",
              "                                                     [key], {});\n",
              "          if (!dataTable) return;\n",
              "\n",
              "          const docLinkHtml = 'Like what you see? Visit the ' +\n",
              "            '<a target=\"_blank\" href=https://colab.research.google.com/notebooks/data_table.ipynb>data table notebook</a>'\n",
              "            + ' to learn more about interactive tables.';\n",
              "          element.innerHTML = '';\n",
              "          dataTable['output_type'] = 'display_data';\n",
              "          await google.colab.output.renderOutput(dataTable, element);\n",
              "          const docLink = document.createElement('div');\n",
              "          docLink.innerHTML = docLinkHtml;\n",
              "          element.appendChild(docLink);\n",
              "        }\n",
              "      </script>\n",
              "    </div>\n",
              "  </div>\n",
              "  "
            ]
          },
          "metadata": {},
          "execution_count": 193
        }
      ]
    },
    {
      "cell_type": "code",
      "source": [
        "df.info()"
      ],
      "metadata": {
        "colab": {
          "base_uri": "https://localhost:8080/"
        },
        "id": "ZTv5Ngxttxdq",
        "outputId": "fc2e006d-5451-4c81-b231-adfa495b3a7a"
      },
      "execution_count": null,
      "outputs": [
        {
          "output_type": "stream",
          "name": "stdout",
          "text": [
            "<class 'pandas.core.frame.DataFrame'>\n",
            "RangeIndex: 467 entries, 0 to 466\n",
            "Data columns (total 11 columns):\n",
            " #   Column          Non-Null Count  Dtype  \n",
            "---  ------          --------------  -----  \n",
            " 0   name            467 non-null    object \n",
            " 1   price (in $ )   467 non-null    float64\n",
            " 2   x(mm)           467 non-null    float64\n",
            " 3   y(mm)           467 non-null    float64\n",
            " 4   z(mm)           467 non-null    float64\n",
            " 5   dimension (mm)  467 non-null    float64\n",
            " 6   Finish          467 non-null    object \n",
            " 7   technolgy       467 non-null    object \n",
            " 8   material        467 non-null    object \n",
            " 9   color           467 non-null    object \n",
            " 10  Process         467 non-null    object \n",
            "dtypes: float64(5), object(6)\n",
            "memory usage: 40.3+ KB\n"
          ]
        }
      ]
    },
    {
      "cell_type": "code",
      "source": [
        "df.describe(include=object)  ##show statics of columns with object type"
      ],
      "metadata": {
        "colab": {
          "base_uri": "https://localhost:8080/",
          "height": 175
        },
        "id": "NjEq-SLosahL",
        "outputId": "37064d1f-957b-42e8-e4ea-c25d153287dd"
      },
      "execution_count": null,
      "outputs": [
        {
          "output_type": "execute_result",
          "data": {
            "text/plain": [
              "                           name      Finish technolgy material  color  \\\n",
              "count                       467         467       467      467    467   \n",
              "unique                      446           1         1        2      1   \n",
              "top     Shiny Snicket-Blad b...  No Finish        FDM      ABS  black   \n",
              "freq                          5         467       467      466    467   \n",
              "\n",
              "           Process  \n",
              "count          467  \n",
              "unique           1  \n",
              "top     3Dprinting  \n",
              "freq           467  "
            ],
            "text/html": [
              "\n",
              "  <div id=\"df-7105c7a6-35dd-466b-ac1e-8127f50d487b\">\n",
              "    <div class=\"colab-df-container\">\n",
              "      <div>\n",
              "<style scoped>\n",
              "    .dataframe tbody tr th:only-of-type {\n",
              "        vertical-align: middle;\n",
              "    }\n",
              "\n",
              "    .dataframe tbody tr th {\n",
              "        vertical-align: top;\n",
              "    }\n",
              "\n",
              "    .dataframe thead th {\n",
              "        text-align: right;\n",
              "    }\n",
              "</style>\n",
              "<table border=\"1\" class=\"dataframe\">\n",
              "  <thead>\n",
              "    <tr style=\"text-align: right;\">\n",
              "      <th></th>\n",
              "      <th>name</th>\n",
              "      <th>Finish</th>\n",
              "      <th>technolgy</th>\n",
              "      <th>material</th>\n",
              "      <th>color</th>\n",
              "      <th>Process</th>\n",
              "    </tr>\n",
              "  </thead>\n",
              "  <tbody>\n",
              "    <tr>\n",
              "      <th>count</th>\n",
              "      <td>467</td>\n",
              "      <td>467</td>\n",
              "      <td>467</td>\n",
              "      <td>467</td>\n",
              "      <td>467</td>\n",
              "      <td>467</td>\n",
              "    </tr>\n",
              "    <tr>\n",
              "      <th>unique</th>\n",
              "      <td>446</td>\n",
              "      <td>1</td>\n",
              "      <td>1</td>\n",
              "      <td>2</td>\n",
              "      <td>1</td>\n",
              "      <td>1</td>\n",
              "    </tr>\n",
              "    <tr>\n",
              "      <th>top</th>\n",
              "      <td>Shiny Snicket-Blad b...</td>\n",
              "      <td>No Finish</td>\n",
              "      <td>FDM</td>\n",
              "      <td>ABS</td>\n",
              "      <td>black</td>\n",
              "      <td>3Dprinting</td>\n",
              "    </tr>\n",
              "    <tr>\n",
              "      <th>freq</th>\n",
              "      <td>5</td>\n",
              "      <td>467</td>\n",
              "      <td>467</td>\n",
              "      <td>466</td>\n",
              "      <td>467</td>\n",
              "      <td>467</td>\n",
              "    </tr>\n",
              "  </tbody>\n",
              "</table>\n",
              "</div>\n",
              "      <button class=\"colab-df-convert\" onclick=\"convertToInteractive('df-7105c7a6-35dd-466b-ac1e-8127f50d487b')\"\n",
              "              title=\"Convert this dataframe to an interactive table.\"\n",
              "              style=\"display:none;\">\n",
              "        \n",
              "  <svg xmlns=\"http://www.w3.org/2000/svg\" height=\"24px\"viewBox=\"0 0 24 24\"\n",
              "       width=\"24px\">\n",
              "    <path d=\"M0 0h24v24H0V0z\" fill=\"none\"/>\n",
              "    <path d=\"M18.56 5.44l.94 2.06.94-2.06 2.06-.94-2.06-.94-.94-2.06-.94 2.06-2.06.94zm-11 1L8.5 8.5l.94-2.06 2.06-.94-2.06-.94L8.5 2.5l-.94 2.06-2.06.94zm10 10l.94 2.06.94-2.06 2.06-.94-2.06-.94-.94-2.06-.94 2.06-2.06.94z\"/><path d=\"M17.41 7.96l-1.37-1.37c-.4-.4-.92-.59-1.43-.59-.52 0-1.04.2-1.43.59L10.3 9.45l-7.72 7.72c-.78.78-.78 2.05 0 2.83L4 21.41c.39.39.9.59 1.41.59.51 0 1.02-.2 1.41-.59l7.78-7.78 2.81-2.81c.8-.78.8-2.07 0-2.86zM5.41 20L4 18.59l7.72-7.72 1.47 1.35L5.41 20z\"/>\n",
              "  </svg>\n",
              "      </button>\n",
              "      \n",
              "  <style>\n",
              "    .colab-df-container {\n",
              "      display:flex;\n",
              "      flex-wrap:wrap;\n",
              "      gap: 12px;\n",
              "    }\n",
              "\n",
              "    .colab-df-convert {\n",
              "      background-color: #E8F0FE;\n",
              "      border: none;\n",
              "      border-radius: 50%;\n",
              "      cursor: pointer;\n",
              "      display: none;\n",
              "      fill: #1967D2;\n",
              "      height: 32px;\n",
              "      padding: 0 0 0 0;\n",
              "      width: 32px;\n",
              "    }\n",
              "\n",
              "    .colab-df-convert:hover {\n",
              "      background-color: #E2EBFA;\n",
              "      box-shadow: 0px 1px 2px rgba(60, 64, 67, 0.3), 0px 1px 3px 1px rgba(60, 64, 67, 0.15);\n",
              "      fill: #174EA6;\n",
              "    }\n",
              "\n",
              "    [theme=dark] .colab-df-convert {\n",
              "      background-color: #3B4455;\n",
              "      fill: #D2E3FC;\n",
              "    }\n",
              "\n",
              "    [theme=dark] .colab-df-convert:hover {\n",
              "      background-color: #434B5C;\n",
              "      box-shadow: 0px 1px 3px 1px rgba(0, 0, 0, 0.15);\n",
              "      filter: drop-shadow(0px 1px 2px rgba(0, 0, 0, 0.3));\n",
              "      fill: #FFFFFF;\n",
              "    }\n",
              "  </style>\n",
              "\n",
              "      <script>\n",
              "        const buttonEl =\n",
              "          document.querySelector('#df-7105c7a6-35dd-466b-ac1e-8127f50d487b button.colab-df-convert');\n",
              "        buttonEl.style.display =\n",
              "          google.colab.kernel.accessAllowed ? 'block' : 'none';\n",
              "\n",
              "        async function convertToInteractive(key) {\n",
              "          const element = document.querySelector('#df-7105c7a6-35dd-466b-ac1e-8127f50d487b');\n",
              "          const dataTable =\n",
              "            await google.colab.kernel.invokeFunction('convertToInteractive',\n",
              "                                                     [key], {});\n",
              "          if (!dataTable) return;\n",
              "\n",
              "          const docLinkHtml = 'Like what you see? Visit the ' +\n",
              "            '<a target=\"_blank\" href=https://colab.research.google.com/notebooks/data_table.ipynb>data table notebook</a>'\n",
              "            + ' to learn more about interactive tables.';\n",
              "          element.innerHTML = '';\n",
              "          dataTable['output_type'] = 'display_data';\n",
              "          await google.colab.output.renderOutput(dataTable, element);\n",
              "          const docLink = document.createElement('div');\n",
              "          docLink.innerHTML = docLinkHtml;\n",
              "          element.appendChild(docLink);\n",
              "        }\n",
              "      </script>\n",
              "    </div>\n",
              "  </div>\n",
              "  "
            ]
          },
          "metadata": {},
          "execution_count": 195
        }
      ]
    },
    {
      "cell_type": "code",
      "source": [
        "df.describe(include=float) #show statics of columns with float type"
      ],
      "metadata": {
        "colab": {
          "base_uri": "https://localhost:8080/",
          "height": 300
        },
        "id": "uvarjZEqtubC",
        "outputId": "77a53fff-21bd-4818-c7f4-98199e1b2ab5"
      },
      "execution_count": null,
      "outputs": [
        {
          "output_type": "execute_result",
          "data": {
            "text/plain": [
              "       price (in $ )       x(mm)       y(mm)       z(mm)  dimension (mm)\n",
              "count     467.000000  467.000000  467.000000  467.000000    4.670000e+02\n",
              "mean       93.118458   96.042529   62.541147   33.884850    5.556200e+05\n",
              "std       160.508857   70.108367   51.271526   36.800105    1.661300e+06\n",
              "min         2.740000    0.700000    0.600000    0.400000    2.100000e-01\n",
              "25%        18.090000   40.050000   24.800000    8.000000    1.324000e+04\n",
              "50%        38.230000   82.000000   48.000000   22.200000    8.537400e+04\n",
              "75%        96.155000  138.000000   86.550000   44.650000    3.949541e+05\n",
              "max      1492.190000  442.900000  345.600000  253.000000    2.362710e+07"
            ],
            "text/html": [
              "\n",
              "  <div id=\"df-7e1a1d57-ec17-4602-8530-31cbd78196a3\">\n",
              "    <div class=\"colab-df-container\">\n",
              "      <div>\n",
              "<style scoped>\n",
              "    .dataframe tbody tr th:only-of-type {\n",
              "        vertical-align: middle;\n",
              "    }\n",
              "\n",
              "    .dataframe tbody tr th {\n",
              "        vertical-align: top;\n",
              "    }\n",
              "\n",
              "    .dataframe thead th {\n",
              "        text-align: right;\n",
              "    }\n",
              "</style>\n",
              "<table border=\"1\" class=\"dataframe\">\n",
              "  <thead>\n",
              "    <tr style=\"text-align: right;\">\n",
              "      <th></th>\n",
              "      <th>price (in $ )</th>\n",
              "      <th>x(mm)</th>\n",
              "      <th>y(mm)</th>\n",
              "      <th>z(mm)</th>\n",
              "      <th>dimension (mm)</th>\n",
              "    </tr>\n",
              "  </thead>\n",
              "  <tbody>\n",
              "    <tr>\n",
              "      <th>count</th>\n",
              "      <td>467.000000</td>\n",
              "      <td>467.000000</td>\n",
              "      <td>467.000000</td>\n",
              "      <td>467.000000</td>\n",
              "      <td>4.670000e+02</td>\n",
              "    </tr>\n",
              "    <tr>\n",
              "      <th>mean</th>\n",
              "      <td>93.118458</td>\n",
              "      <td>96.042529</td>\n",
              "      <td>62.541147</td>\n",
              "      <td>33.884850</td>\n",
              "      <td>5.556200e+05</td>\n",
              "    </tr>\n",
              "    <tr>\n",
              "      <th>std</th>\n",
              "      <td>160.508857</td>\n",
              "      <td>70.108367</td>\n",
              "      <td>51.271526</td>\n",
              "      <td>36.800105</td>\n",
              "      <td>1.661300e+06</td>\n",
              "    </tr>\n",
              "    <tr>\n",
              "      <th>min</th>\n",
              "      <td>2.740000</td>\n",
              "      <td>0.700000</td>\n",
              "      <td>0.600000</td>\n",
              "      <td>0.400000</td>\n",
              "      <td>2.100000e-01</td>\n",
              "    </tr>\n",
              "    <tr>\n",
              "      <th>25%</th>\n",
              "      <td>18.090000</td>\n",
              "      <td>40.050000</td>\n",
              "      <td>24.800000</td>\n",
              "      <td>8.000000</td>\n",
              "      <td>1.324000e+04</td>\n",
              "    </tr>\n",
              "    <tr>\n",
              "      <th>50%</th>\n",
              "      <td>38.230000</td>\n",
              "      <td>82.000000</td>\n",
              "      <td>48.000000</td>\n",
              "      <td>22.200000</td>\n",
              "      <td>8.537400e+04</td>\n",
              "    </tr>\n",
              "    <tr>\n",
              "      <th>75%</th>\n",
              "      <td>96.155000</td>\n",
              "      <td>138.000000</td>\n",
              "      <td>86.550000</td>\n",
              "      <td>44.650000</td>\n",
              "      <td>3.949541e+05</td>\n",
              "    </tr>\n",
              "    <tr>\n",
              "      <th>max</th>\n",
              "      <td>1492.190000</td>\n",
              "      <td>442.900000</td>\n",
              "      <td>345.600000</td>\n",
              "      <td>253.000000</td>\n",
              "      <td>2.362710e+07</td>\n",
              "    </tr>\n",
              "  </tbody>\n",
              "</table>\n",
              "</div>\n",
              "      <button class=\"colab-df-convert\" onclick=\"convertToInteractive('df-7e1a1d57-ec17-4602-8530-31cbd78196a3')\"\n",
              "              title=\"Convert this dataframe to an interactive table.\"\n",
              "              style=\"display:none;\">\n",
              "        \n",
              "  <svg xmlns=\"http://www.w3.org/2000/svg\" height=\"24px\"viewBox=\"0 0 24 24\"\n",
              "       width=\"24px\">\n",
              "    <path d=\"M0 0h24v24H0V0z\" fill=\"none\"/>\n",
              "    <path d=\"M18.56 5.44l.94 2.06.94-2.06 2.06-.94-2.06-.94-.94-2.06-.94 2.06-2.06.94zm-11 1L8.5 8.5l.94-2.06 2.06-.94-2.06-.94L8.5 2.5l-.94 2.06-2.06.94zm10 10l.94 2.06.94-2.06 2.06-.94-2.06-.94-.94-2.06-.94 2.06-2.06.94z\"/><path d=\"M17.41 7.96l-1.37-1.37c-.4-.4-.92-.59-1.43-.59-.52 0-1.04.2-1.43.59L10.3 9.45l-7.72 7.72c-.78.78-.78 2.05 0 2.83L4 21.41c.39.39.9.59 1.41.59.51 0 1.02-.2 1.41-.59l7.78-7.78 2.81-2.81c.8-.78.8-2.07 0-2.86zM5.41 20L4 18.59l7.72-7.72 1.47 1.35L5.41 20z\"/>\n",
              "  </svg>\n",
              "      </button>\n",
              "      \n",
              "  <style>\n",
              "    .colab-df-container {\n",
              "      display:flex;\n",
              "      flex-wrap:wrap;\n",
              "      gap: 12px;\n",
              "    }\n",
              "\n",
              "    .colab-df-convert {\n",
              "      background-color: #E8F0FE;\n",
              "      border: none;\n",
              "      border-radius: 50%;\n",
              "      cursor: pointer;\n",
              "      display: none;\n",
              "      fill: #1967D2;\n",
              "      height: 32px;\n",
              "      padding: 0 0 0 0;\n",
              "      width: 32px;\n",
              "    }\n",
              "\n",
              "    .colab-df-convert:hover {\n",
              "      background-color: #E2EBFA;\n",
              "      box-shadow: 0px 1px 2px rgba(60, 64, 67, 0.3), 0px 1px 3px 1px rgba(60, 64, 67, 0.15);\n",
              "      fill: #174EA6;\n",
              "    }\n",
              "\n",
              "    [theme=dark] .colab-df-convert {\n",
              "      background-color: #3B4455;\n",
              "      fill: #D2E3FC;\n",
              "    }\n",
              "\n",
              "    [theme=dark] .colab-df-convert:hover {\n",
              "      background-color: #434B5C;\n",
              "      box-shadow: 0px 1px 3px 1px rgba(0, 0, 0, 0.15);\n",
              "      filter: drop-shadow(0px 1px 2px rgba(0, 0, 0, 0.3));\n",
              "      fill: #FFFFFF;\n",
              "    }\n",
              "  </style>\n",
              "\n",
              "      <script>\n",
              "        const buttonEl =\n",
              "          document.querySelector('#df-7e1a1d57-ec17-4602-8530-31cbd78196a3 button.colab-df-convert');\n",
              "        buttonEl.style.display =\n",
              "          google.colab.kernel.accessAllowed ? 'block' : 'none';\n",
              "\n",
              "        async function convertToInteractive(key) {\n",
              "          const element = document.querySelector('#df-7e1a1d57-ec17-4602-8530-31cbd78196a3');\n",
              "          const dataTable =\n",
              "            await google.colab.kernel.invokeFunction('convertToInteractive',\n",
              "                                                     [key], {});\n",
              "          if (!dataTable) return;\n",
              "\n",
              "          const docLinkHtml = 'Like what you see? Visit the ' +\n",
              "            '<a target=\"_blank\" href=https://colab.research.google.com/notebooks/data_table.ipynb>data table notebook</a>'\n",
              "            + ' to learn more about interactive tables.';\n",
              "          element.innerHTML = '';\n",
              "          dataTable['output_type'] = 'display_data';\n",
              "          await google.colab.output.renderOutput(dataTable, element);\n",
              "          const docLink = document.createElement('div');\n",
              "          docLink.innerHTML = docLinkHtml;\n",
              "          element.appendChild(docLink);\n",
              "        }\n",
              "      </script>\n",
              "    </div>\n",
              "  </div>\n",
              "  "
            ]
          },
          "metadata": {},
          "execution_count": 196
        }
      ]
    },
    {
      "cell_type": "code",
      "source": [
        "df['price (in $ )']=df['price (in $ )'].astype(str).str.replace(',', '')"
      ],
      "metadata": {
        "id": "rY-2ujqjO6jl"
      },
      "execution_count": null,
      "outputs": []
    },
    {
      "cell_type": "code",
      "source": [
        "sns.stripplot(x=\"dimension (mm)\", y=\"price (in $ )\" ,data=df);"
      ],
      "metadata": {
        "colab": {
          "base_uri": "https://localhost:8080/",
          "height": 454
        },
        "id": "wbSg1QloWyi2",
        "outputId": "1012a0f1-fd9b-4a22-dd24-f967c0c0dec9"
      },
      "execution_count": null,
      "outputs": [
        {
          "output_type": "display_data",
          "data": {
            "text/plain": [
              "<Figure size 640x480 with 1 Axes>"
            ],
            "image/png": "[encoded data removed]"
          },
          "metadata": {}
        }
      ]
    },
    {
      "cell_type": "code",
      "source": [
        "sns.scatterplot(data=df, x=df['dimension (mm)'], y=df['price (in $ )'])"
      ],
      "metadata": {
        "colab": {
          "base_uri": "https://localhost:8080/",
          "height": 466
        },
        "id": "i2KmFdNLuIiN",
        "outputId": "c8937df2-329c-4130-8e3c-6cd1e16a1a5b"
      },
      "execution_count": null,
      "outputs": [
        {
          "output_type": "execute_result",
          "data": {
            "text/plain": [
              "<Axes: xlabel='dimension (mm)', ylabel='price (in $ )'>"
            ]
          },
          "metadata": {},
          "execution_count": 199
        },
        {
          "output_type": "display_data",
          "data": {
            "text/plain": [
              "<Figure size 640x480 with 1 Axes>"
            ],
            "image/png": "[encoded data removed]"
          },
          "metadata": {}
        }
      ]
    },
    {
      "cell_type": "code",
      "source": [
        "type(df['dimension (mm)'][0])"
      ],
      "metadata": {
        "colab": {
          "base_uri": "https://localhost:8080/"
        },
        "id": "ui6eXNIt0jJS",
        "outputId": "8156ec81-d7bd-465e-bde4-8b7784446184"
      },
      "execution_count": null,
      "outputs": [
        {
          "output_type": "execute_result",
          "data": {
            "text/plain": [
              "numpy.float64"
            ]
          },
          "metadata": {},
          "execution_count": 200
        }
      ]
    },
    {
      "cell_type": "code",
      "source": [
        "df['dimension (mm)'].info()"
      ],
      "metadata": {
        "colab": {
          "base_uri": "https://localhost:8080/"
        },
        "id": "I0O_LWQmTf4G",
        "outputId": "2e7b94ce-8815-49d2-a19f-03f68101b95a"
      },
      "execution_count": null,
      "outputs": [
        {
          "output_type": "stream",
          "name": "stdout",
          "text": [
            "<class 'pandas.core.series.Series'>\n",
            "RangeIndex: 468 entries, 0 to 467\n",
            "Series name: dimension (mm)\n",
            "Non-Null Count  Dtype  \n",
            "--------------  -----  \n",
            "468 non-null    float64\n",
            "dtypes: float64(1)\n",
            "memory usage: 3.8 KB\n"
          ]
        }
      ]
    },
    {
      "cell_type": "code",
      "source": [
        "print(df[['x(mm)', 'y(mm)', 'z(mm)', 'dimension (mm)']].isnull().sum())"
      ],
      "metadata": {
        "colab": {
          "base_uri": "https://localhost:8080/"
        },
        "id": "Nh70il8teQP-",
        "outputId": "faf3a131-ec96-4fa0-ffab-c033148178ea"
      },
      "execution_count": null,
      "outputs": [
        {
          "output_type": "stream",
          "name": "stdout",
          "text": [
            "x(mm)             0\n",
            "y(mm)             0\n",
            "z(mm)             0\n",
            "dimension (mm)    0\n",
            "dtype: int64\n"
          ]
        }
      ]
    },
    {
      "cell_type": "code",
      "source": [
        "print(df[['x(mm)', 'y(mm)', 'z(mm)', 'dimension (mm)','price (in $ )']].isnull().sum())"
      ],
      "metadata": {
        "colab": {
          "base_uri": "https://localhost:8080/"
        },
        "id": "__Wzpxp-i5CD",
        "outputId": "17be0ba1-af6e-4bd5-c170-878de78099d2"
      },
      "execution_count": null,
      "outputs": [
        {
          "output_type": "stream",
          "name": "stdout",
          "text": [
            "x(mm)             0\n",
            "y(mm)             0\n",
            "z(mm)             0\n",
            "dimension (mm)    0\n",
            "price (in $ )     0\n",
            "dtype: int64\n"
          ]
        }
      ]
    },
    {
      "cell_type": "code",
      "source": [
        "### count the frequency of each value in the 'price' column\n",
        "freq = df['dimension (mm)'].value_counts()\n",
        "freq"
      ],
      "metadata": {
        "colab": {
          "base_uri": "https://localhost:8080/"
        },
        "id": "hJnBEh0Hirmz",
        "outputId": "f545a509-dec8-4b5c-d3ae-190324c45dc2"
      },
      "execution_count": null,
      "outputs": [
        {
          "output_type": "execute_result",
          "data": {
            "text/plain": [
              "109440.000     4\n",
              "34387.070      4\n",
              "1232.450       3\n",
              "4296.240       3\n",
              "14697.440      3\n",
              "              ..\n",
              "371117.824     1\n",
              "34999.056      1\n",
              "1292197.500    1\n",
              "758912.000     1\n",
              "1798260.000    1\n",
              "Name: dimension (mm), Length: 414, dtype: int64"
            ]
          },
          "metadata": {},
          "execution_count": 202
        }
      ]
    },
    {
      "cell_type": "markdown",
      "source": [
        "##create frequency of the price column"
      ],
      "metadata": {
        "id": "hR5Lng6W6MaW"
      }
    },
    {
      "cell_type": "code",
      "source": [
        "# count the frequency of each value in the 'price' column\n",
        "freqx = df[\"x(mm)\"].value_counts(ascending=False)\n",
        "\n",
        "print(freqx)"
      ],
      "metadata": {
        "colab": {
          "base_uri": "https://localhost:8080/"
        },
        "id": "blDdqe7kjY9D",
        "outputId": "fb641660-a8ea-4566-d832-8bd888402ecf"
      },
      "execution_count": null,
      "outputs": [
        {
          "output_type": "stream",
          "name": "stdout",
          "text": [
            "95.0     7\n",
            "150.0    7\n",
            "100.0    6\n",
            "48.7     5\n",
            "200.0    5\n",
            "        ..\n",
            "79.6     1\n",
            "3.1      1\n",
            "122.6    1\n",
            "97.9     1\n",
            "205.0    1\n",
            "Name: x(mm), Length: 324, dtype: int64\n"
          ]
        }
      ]
    },
    {
      "cell_type": "code",
      "source": [
        "# count the frequency of each value in the 'price' column\n",
        "freq =df['z(mm)'].value_counts(ascending=False)\n",
        "\n",
        "print(freq)"
      ],
      "metadata": {
        "colab": {
          "base_uri": "https://localhost:8080/"
        },
        "id": "gvQCtkWhm9CO",
        "outputId": "ad42e41c-16d0-4068-9e81-5ff064aa7d08"
      },
      "execution_count": null,
      "outputs": [
        {
          "output_type": "stream",
          "name": "stdout",
          "text": [
            "5.0      17\n",
            "7.0      13\n",
            "4.0       8\n",
            "23.0      7\n",
            "40.8      6\n",
            "         ..\n",
            "20.4      1\n",
            "28.5      1\n",
            "30.7      1\n",
            "108.0     1\n",
            "43.0      1\n",
            "Name: z(mm), Length: 256, dtype: int64\n"
          ]
        }
      ]
    },
    {
      "cell_type": "code",
      "source": [
        "freq= df['price (in $ )'].value_counts(ascending=False)\n",
        "print(freq)"
      ],
      "metadata": {
        "colab": {
          "base_uri": "https://localhost:8080/"
        },
        "id": "-cDfG47q9V7y",
        "outputId": "c61eaf91-54bd-4675-ced9-143b4b27f7c1"
      },
      "execution_count": null,
      "outputs": [
        {
          "output_type": "stream",
          "name": "stdout",
          "text": [
            "31.35     4\n",
            "58.31     3\n",
            "15.68     3\n",
            "160.44    3\n",
            "138.58    3\n",
            "         ..\n",
            "28.95     1\n",
            "270.67    1\n",
            "38.23     1\n",
            "19.94     1\n",
            "285.66    1\n",
            "Name: price (in $ ), Length: 419, dtype: int64\n"
          ]
        }
      ]
    },
    {
      "cell_type": "code",
      "source": [
        "freq =df['name'].value_counts(ascending=False)\n",
        "print(freq)"
      ],
      "metadata": {
        "colab": {
          "base_uri": "https://localhost:8080/"
        },
        "id": "pYJs36D-j99w",
        "outputId": "2551898c-537b-492f-f99c-3a912e7c9b6f"
      },
      "execution_count": null,
      "outputs": [
        {
          "output_type": "stream",
          "name": "stdout",
          "text": [
            "Shiny Snicket-Blad b...               5\n",
            "ItsLitho_pogchamp-twitch-own3d.stl    2\n",
            "catalyst whole.stl                    2\n",
            "Curious Box Bottom.s...               2\n",
            "Assassin Short Bow bottom.stl         2\n",
            "                                     ..\n",
            "Merrow updated.stl                    1\n",
            "Bulette Updated.stl                   1\n",
            "Turntable2.stl                        1\n",
            "Ollie.stl                             1\n",
            "Pride Pencil Cups.st                  1\n",
            "Name: name, Length: 446, dtype: int64\n"
          ]
        }
      ]
    },
    {
      "cell_type": "code",
      "source": [
        "def bar_plot(col):\n",
        "  plt.hist(col)\n",
        "  plt.title('Histogram of frequency of A column ')\n",
        "  plt.xlabel('Value of column')\n",
        "  plt.ylabel('fruency')\n",
        "  # Adjust the size as per your requirement\n",
        "  plt.figure(figsize=(100,20))\n",
        "  # display the plot\n",
        "  plt.show()"
      ],
      "metadata": {
        "id": "R_T7jxXQqGa1"
      },
      "execution_count": null,
      "outputs": []
    },
    {
      "cell_type": "code",
      "source": [
        "bar_plot(df['price (in $ )'])"
      ],
      "metadata": {
        "colab": {
          "base_uri": "https://localhost:8080/",
          "height": 489
        },
        "id": "Yf4V5KPevBIa",
        "outputId": "0bfc044f-307d-4d54-bfc4-fffc8a4e7be1"
      },
      "execution_count": null,
      "outputs": [
        {
          "output_type": "display_data",
          "data": {
            "text/plain": [
              "<Figure size 640x480 with 1 Axes>"
            ],
            "image/png": "[encoded data removed]"
          },
          "metadata": {}
        },
        {
          "output_type": "display_data",
          "data": {
            "text/plain": [
              "<Figure size 10000x2000 with 0 Axes>"
            ]
          },
          "metadata": {}
        }
      ]
    },
    {
      "cell_type": "code",
      "source": [
        "bar_plot(df['dimension (mm)'])"
      ],
      "metadata": {
        "colab": {
          "base_uri": "https://localhost:8080/",
          "height": 489
        },
        "id": "GBb-IaqPvQXE",
        "outputId": "6274d0e4-6598-403e-b524-a8d818f5ee26"
      },
      "execution_count": null,
      "outputs": [
        {
          "output_type": "display_data",
          "data": {
            "text/plain": [
              "<Figure size 640x480 with 1 Axes>"
            ],
            "image/png": "[encoded data removed]"
          },
          "metadata": {}
        },
        {
          "output_type": "display_data",
          "data": {
            "text/plain": [
              "<Figure size 10000x2000 with 0 Axes>"
            ]
          },
          "metadata": {}
        }
      ]
    },
    {
      "cell_type": "markdown",
      "source": [
        "##visualisation de nombre (count) de valeurs uniques de colonne price ordonné pour distingué le type de diemenion le plous utilisé"
      ],
      "metadata": {
        "id": "icOLujXnBcVA"
      }
    },
    {
      "cell_type": "code",
      "source": [
        "plt.hist(df['price (in $ )'],range( len(df['price (in $ )'])) )\n",
        "# add a title and labels to the plot\n",
        "plt.title('Histogram of frequency of price')\n",
        "plt.xlabel('Value of price in $')\n",
        "plt.ylabel('fruency')\n",
        "# Adjust the size as per your requirement\n",
        "plt.figure(figsize=(100,5))\n",
        "# display the plot\n",
        "plt.show()"
      ],
      "metadata": {
        "colab": {
          "base_uri": "https://localhost:8080/",
          "height": 489
        },
        "id": "vzqZ-67b_wjv",
        "outputId": "a87f794a-e0aa-43af-d85e-f2a3e2376fdd"
      },
      "execution_count": null,
      "outputs": [
        {
          "output_type": "display_data",
          "data": {
            "text/plain": [
              "<Figure size 640x480 with 1 Axes>"
            ],
            "image/png": "[encoded data removed]"
          },
          "metadata": {}
        },
        {
          "output_type": "display_data",
          "data": {
            "text/plain": [
              "<Figure size 10000x500 with 0 Axes>"
            ]
          },
          "metadata": {}
        }
      ]
    },
    {
      "cell_type": "code",
      "source": [
        "plt.hist(df['dimension (mm)'])\n",
        "plt.xlabel('Value of dimension in mm')  # add a title and labels to the plot\n",
        "plt.ylabel('fruency')\n",
        "plt.figure(figsize=(100,7))  # Adjust the size as per your requirement\n",
        "plt.show()  # display the plot"
      ],
      "metadata": {
        "colab": {
          "base_uri": "https://localhost:8080/",
          "height": 466
        },
        "id": "BxXshy-UGrEh",
        "outputId": "e520a2c3-5ec3-4992-aecc-ead8bc2c0cc6"
      },
      "execution_count": null,
      "outputs": [
        {
          "output_type": "display_data",
          "data": {
            "text/plain": [
              "<Figure size 640x480 with 1 Axes>"
            ],
            "image/png": "[encoded data removed]"
          },
          "metadata": {}
        },
        {
          "output_type": "display_data",
          "data": {
            "text/plain": [
              "<Figure size 10000x700 with 0 Axes>"
            ]
          },
          "metadata": {}
        }
      ]
    },
    {
      "cell_type": "markdown",
      "source": [
        "####histogramme of the price dependin go the material"
      ],
      "metadata": {
        "id": "TogiKWwO692m"
      }
    },
    {
      "cell_type": "code",
      "source": [
        "plt.hist( df['material'],range(len(df['material']))  )\n",
        "plt.title('Histogram of material')  # add a title and labels to the plot\n",
        "plt.xlabel('Value of dimension in mm')\n",
        "plt.ylabel('price in $')  # display the plot\n",
        "plt.show()"
      ],
      "metadata": {
        "colab": {
          "base_uri": "https://localhost:8080/",
          "height": 472
        },
        "id": "Obyr9PuGCJKb",
        "outputId": "22225ce0-99a8-4c03-fe1b-c46f4e7e199e"
      },
      "execution_count": null,
      "outputs": [
        {
          "output_type": "display_data",
          "data": {
            "text/plain": [
              "<Figure size 640x480 with 1 Axes>"
            ],
            "image/png": "[encoded data removed]"
          },
          "metadata": {}
        }
      ]
    },
    {
      "cell_type": "code",
      "source": [
        "plt.hist( df['technolgy'] , range(len(d['technolgy'])) )\n",
        "plt.title('Histogram of\ttechnolgy\t')  # add a title and labels to the plot\n",
        "plt.xlabel('Value of frequency' )\n",
        "plt.ylabel(' \ttechnolgy\t')  # display the plot\n",
        "plt.show()"
      ],
      "metadata": {
        "colab": {
          "base_uri": "https://localhost:8080/",
          "height": 235
        },
        "id": "_QXCAwozi8DM",
        "outputId": "6f076920-855b-4328-bbd6-1118033134c0"
      },
      "execution_count": null,
      "outputs": [
        {
          "output_type": "error",
          "ename": "NameError",
          "evalue": "ignored",
          "traceback": [
            "\u001b[0;31m---------------------------------------------------------------------------\u001b[0m",
            "\u001b[0;31mNameError\u001b[0m                                 Traceback (most recent call last)",
            "\u001b[0;32m<ipython-input-213-550a2603fc2d>\u001b[0m in \u001b[0;36m<cell line: 1>\u001b[0;34m()\u001b[0m\n\u001b[0;32m----> 1\u001b[0;31m \u001b[0mplt\u001b[0m\u001b[0;34m.\u001b[0m\u001b[0mhist\u001b[0m\u001b[0;34m(\u001b[0m \u001b[0mdf\u001b[0m\u001b[0;34m[\u001b[0m\u001b[0;34m'technolgy'\u001b[0m\u001b[0;34m]\u001b[0m \u001b[0;34m,\u001b[0m \u001b[0mrange\u001b[0m\u001b[0;34m(\u001b[0m\u001b[0mlen\u001b[0m\u001b[0;34m(\u001b[0m\u001b[0md\u001b[0m\u001b[0;34m[\u001b[0m\u001b[0;34m'technolgy'\u001b[0m\u001b[0;34m]\u001b[0m\u001b[0;34m)\u001b[0m\u001b[0;34m)\u001b[0m \u001b[0;34m)\u001b[0m\u001b[0;34m\u001b[0m\u001b[0;34m\u001b[0m\u001b[0m\n\u001b[0m\u001b[1;32m      2\u001b[0m \u001b[0mplt\u001b[0m\u001b[0;34m.\u001b[0m\u001b[0mtitle\u001b[0m\u001b[0;34m(\u001b[0m\u001b[0;34m'Histogram of technolgy       '\u001b[0m\u001b[0;34m)\u001b[0m  \u001b[0;31m# add a title and labels to the plot\u001b[0m\u001b[0;34m\u001b[0m\u001b[0;34m\u001b[0m\u001b[0m\n\u001b[1;32m      3\u001b[0m \u001b[0mplt\u001b[0m\u001b[0;34m.\u001b[0m\u001b[0mxlabel\u001b[0m\u001b[0;34m(\u001b[0m\u001b[0;34m'Value of frequency'\u001b[0m \u001b[0;34m)\u001b[0m\u001b[0;34m\u001b[0m\u001b[0;34m\u001b[0m\u001b[0m\n\u001b[1;32m      4\u001b[0m \u001b[0mplt\u001b[0m\u001b[0;34m.\u001b[0m\u001b[0mylabel\u001b[0m\u001b[0;34m(\u001b[0m\u001b[0;34m'    technolgy       '\u001b[0m\u001b[0;34m)\u001b[0m  \u001b[0;31m# display the plot\u001b[0m\u001b[0;34m\u001b[0m\u001b[0;34m\u001b[0m\u001b[0m\n\u001b[1;32m      5\u001b[0m \u001b[0mplt\u001b[0m\u001b[0;34m.\u001b[0m\u001b[0mshow\u001b[0m\u001b[0;34m(\u001b[0m\u001b[0;34m)\u001b[0m\u001b[0;34m\u001b[0m\u001b[0;34m\u001b[0m\u001b[0m\n",
            "\u001b[0;31mNameError\u001b[0m: name 'd' is not defined"
          ]
        }
      ]
    },
    {
      "cell_type": "code",
      "source": [
        "# Extracting the model input and output features\n",
        "X = df.drop([\"name\",\"Finish\",\"technolgy\",\"material\",\"color\",\"Process\"], axis=1)  # Removing species columns from the input features\n",
        "y = df['price (in $ )']  # Single output"
      ],
      "metadata": {
        "id": "mnrTxGlxE-rg"
      },
      "execution_count": null,
      "outputs": []
    },
    {
      "cell_type": "code",
      "source": [
        "X\n"
      ],
      "metadata": {
        "colab": {
          "base_uri": "https://localhost:8080/",
          "height": 423
        },
        "id": "lXp_x1YyjO3-",
        "outputId": "ef18a458-78b6-4545-aa8c-e245d806b89b"
      },
      "execution_count": null,
      "outputs": [
        {
          "output_type": "execute_result",
          "data": {
            "text/plain": [
              "    price (in $ )  x(mm)  y(mm)  z(mm)  dimension (mm)\n",
              "0           33.92  138.0   34.0   14.5       68034.000\n",
              "1          160.63  240.0   70.5   28.0      473760.000\n",
              "2          154.38   70.0   60.0   60.0      252000.000\n",
              "3           43.97   46.5   45.0   40.8       85374.000\n",
              "4           40.29   85.0   42.0   20.0       71400.000\n",
              "..            ...    ...    ...    ...             ...\n",
              "462        110.46  200.0  124.7   56.5     1409110.000\n",
              "463        376.99  112.5  101.3   86.9      990334.125\n",
              "464        377.92  210.0   96.4   93.5     1892814.000\n",
              "465         336.7  179.3  148.2  115.0     3055809.900\n",
              "466        285.66  205.0  204.0   43.0     1798260.000\n",
              "\n",
              "[467 rows x 5 columns]"
            ],
            "text/html": [
              "\n",
              "  <div id=\"df-d21d5359-61bc-4762-afc3-77cc98b8faeb\">\n",
              "    <div class=\"colab-df-container\">\n",
              "      <div>\n",
              "<style scoped>\n",
              "    .dataframe tbody tr th:only-of-type {\n",
              "        vertical-align: middle;\n",
              "    }\n",
              "\n",
              "    .dataframe tbody tr th {\n",
              "        vertical-align: top;\n",
              "    }\n",
              "\n",
              "    .dataframe thead th {\n",
              "        text-align: right;\n",
              "    }\n",
              "</style>\n",
              "<table border=\"1\" class=\"dataframe\">\n",
              "  <thead>\n",
              "    <tr style=\"text-align: right;\">\n",
              "      <th></th>\n",
              "      <th>price (in $ )</th>\n",
              "      <th>x(mm)</th>\n",
              "      <th>y(mm)</th>\n",
              "      <th>z(mm)</th>\n",
              "      <th>dimension (mm)</th>\n",
              "    </tr>\n",
              "  </thead>\n",
              "  <tbody>\n",
              "    <tr>\n",
              "      <th>0</th>\n",
              "      <td>33.92</td>\n",
              "      <td>138.0</td>\n",
              "      <td>34.0</td>\n",
              "      <td>14.5</td>\n",
              "      <td>68034.000</td>\n",
              "    </tr>\n",
              "    <tr>\n",
              "      <th>1</th>\n",
              "      <td>160.63</td>\n",
              "      <td>240.0</td>\n",
              "      <td>70.5</td>\n",
              "      <td>28.0</td>\n",
              "      <td>473760.000</td>\n",
              "    </tr>\n",
              "    <tr>\n",
              "      <th>2</th>\n",
              "      <td>154.38</td>\n",
              "      <td>70.0</td>\n",
              "      <td>60.0</td>\n",
              "      <td>60.0</td>\n",
              "      <td>252000.000</td>\n",
              "    </tr>\n",
              "    <tr>\n",
              "      <th>3</th>\n",
              "      <td>43.97</td>\n",
              "      <td>46.5</td>\n",
              "      <td>45.0</td>\n",
              "      <td>40.8</td>\n",
              "      <td>85374.000</td>\n",
              "    </tr>\n",
              "    <tr>\n",
              "      <th>4</th>\n",
              "      <td>40.29</td>\n",
              "      <td>85.0</td>\n",
              "      <td>42.0</td>\n",
              "      <td>20.0</td>\n",
              "      <td>71400.000</td>\n",
              "    </tr>\n",
              "    <tr>\n",
              "      <th>...</th>\n",
              "      <td>...</td>\n",
              "      <td>...</td>\n",
              "      <td>...</td>\n",
              "      <td>...</td>\n",
              "      <td>...</td>\n",
              "    </tr>\n",
              "    <tr>\n",
              "      <th>462</th>\n",
              "      <td>110.46</td>\n",
              "      <td>200.0</td>\n",
              "      <td>124.7</td>\n",
              "      <td>56.5</td>\n",
              "      <td>1409110.000</td>\n",
              "    </tr>\n",
              "    <tr>\n",
              "      <th>463</th>\n",
              "      <td>376.99</td>\n",
              "      <td>112.5</td>\n",
              "      <td>101.3</td>\n",
              "      <td>86.9</td>\n",
              "      <td>990334.125</td>\n",
              "    </tr>\n",
              "    <tr>\n",
              "      <th>464</th>\n",
              "      <td>377.92</td>\n",
              "      <td>210.0</td>\n",
              "      <td>96.4</td>\n",
              "      <td>93.5</td>\n",
              "      <td>1892814.000</td>\n",
              "    </tr>\n",
              "    <tr>\n",
              "      <th>465</th>\n",
              "      <td>336.7</td>\n",
              "      <td>179.3</td>\n",
              "      <td>148.2</td>\n",
              "      <td>115.0</td>\n",
              "      <td>3055809.900</td>\n",
              "    </tr>\n",
              "    <tr>\n",
              "      <th>466</th>\n",
              "      <td>285.66</td>\n",
              "      <td>205.0</td>\n",
              "      <td>204.0</td>\n",
              "      <td>43.0</td>\n",
              "      <td>1798260.000</td>\n",
              "    </tr>\n",
              "  </tbody>\n",
              "</table>\n",
              "<p>467 rows × 5 columns</p>\n",
              "</div>\n",
              "      <button class=\"colab-df-convert\" onclick=\"convertToInteractive('df-d21d5359-61bc-4762-afc3-77cc98b8faeb')\"\n",
              "              title=\"Convert this dataframe to an interactive table.\"\n",
              "              style=\"display:none;\">\n",
              "        \n",
              "  <svg xmlns=\"http://www.w3.org/2000/svg\" height=\"24px\"viewBox=\"0 0 24 24\"\n",
              "       width=\"24px\">\n",
              "    <path d=\"M0 0h24v24H0V0z\" fill=\"none\"/>\n",
              "    <path d=\"M18.56 5.44l.94 2.06.94-2.06 2.06-.94-2.06-.94-.94-2.06-.94 2.06-2.06.94zm-11 1L8.5 8.5l.94-2.06 2.06-.94-2.06-.94L8.5 2.5l-.94 2.06-2.06.94zm10 10l.94 2.06.94-2.06 2.06-.94-2.06-.94-.94-2.06-.94 2.06-2.06.94z\"/><path d=\"M17.41 7.96l-1.37-1.37c-.4-.4-.92-.59-1.43-.59-.52 0-1.04.2-1.43.59L10.3 9.45l-7.72 7.72c-.78.78-.78 2.05 0 2.83L4 21.41c.39.39.9.59 1.41.59.51 0 1.02-.2 1.41-.59l7.78-7.78 2.81-2.81c.8-.78.8-2.07 0-2.86zM5.41 20L4 18.59l7.72-7.72 1.47 1.35L5.41 20z\"/>\n",
              "  </svg>\n",
              "      </button>\n",
              "      \n",
              "  <style>\n",
              "    .colab-df-container {\n",
              "      display:flex;\n",
              "      flex-wrap:wrap;\n",
              "      gap: 12px;\n",
              "    }\n",
              "\n",
              "    .colab-df-convert {\n",
              "      background-color: #E8F0FE;\n",
              "      border: none;\n",
              "      border-radius: 50%;\n",
              "      cursor: pointer;\n",
              "      display: none;\n",
              "      fill: #1967D2;\n",
              "      height: 32px;\n",
              "      padding: 0 0 0 0;\n",
              "      width: 32px;\n",
              "    }\n",
              "\n",
              "    .colab-df-convert:hover {\n",
              "      background-color: #E2EBFA;\n",
              "      box-shadow: 0px 1px 2px rgba(60, 64, 67, 0.3), 0px 1px 3px 1px rgba(60, 64, 67, 0.15);\n",
              "      fill: #174EA6;\n",
              "    }\n",
              "\n",
              "    [theme=dark] .colab-df-convert {\n",
              "      background-color: #3B4455;\n",
              "      fill: #D2E3FC;\n",
              "    }\n",
              "\n",
              "    [theme=dark] .colab-df-convert:hover {\n",
              "      background-color: #434B5C;\n",
              "      box-shadow: 0px 1px 3px 1px rgba(0, 0, 0, 0.15);\n",
              "      filter: drop-shadow(0px 1px 2px rgba(0, 0, 0, 0.3));\n",
              "      fill: #FFFFFF;\n",
              "    }\n",
              "  </style>\n",
              "\n",
              "      <script>\n",
              "        const buttonEl =\n",
              "          document.querySelector('#df-d21d5359-61bc-4762-afc3-77cc98b8faeb button.colab-df-convert');\n",
              "        buttonEl.style.display =\n",
              "          google.colab.kernel.accessAllowed ? 'block' : 'none';\n",
              "\n",
              "        async function convertToInteractive(key) {\n",
              "          const element = document.querySelector('#df-d21d5359-61bc-4762-afc3-77cc98b8faeb');\n",
              "          const dataTable =\n",
              "            await google.colab.kernel.invokeFunction('convertToInteractive',\n",
              "                                                     [key], {});\n",
              "          if (!dataTable) return;\n",
              "\n",
              "          const docLinkHtml = 'Like what you see? Visit the ' +\n",
              "            '<a target=\"_blank\" href=https://colab.research.google.com/notebooks/data_table.ipynb>data table notebook</a>'\n",
              "            + ' to learn more about interactive tables.';\n",
              "          element.innerHTML = '';\n",
              "          dataTable['output_type'] = 'display_data';\n",
              "          await google.colab.output.renderOutput(dataTable, element);\n",
              "          const docLink = document.createElement('div');\n",
              "          docLink.innerHTML = docLinkHtml;\n",
              "          element.appendChild(docLink);\n",
              "        }\n",
              "      </script>\n",
              "    </div>\n",
              "  </div>\n",
              "  "
            ]
          },
          "metadata": {},
          "execution_count": 215
        }
      ]
    },
    {
      "cell_type": "code",
      "source": [
        "df.info()"
      ],
      "metadata": {
        "colab": {
          "base_uri": "https://localhost:8080/"
        },
        "id": "l3ZnFEUhm4KJ",
        "outputId": "db2cdcc3-6bdc-47ca-bb85-caaa316fd378"
      },
      "execution_count": null,
      "outputs": [
        {
          "output_type": "stream",
          "name": "stdout",
          "text": [
            "<class 'pandas.core.frame.DataFrame'>\n",
            "RangeIndex: 467 entries, 0 to 466\n",
            "Data columns (total 11 columns):\n",
            " #   Column          Non-Null Count  Dtype  \n",
            "---  ------          --------------  -----  \n",
            " 0   name            467 non-null    object \n",
            " 1   price (in $ )   467 non-null    object \n",
            " 2   x(mm)           467 non-null    float64\n",
            " 3   y(mm)           467 non-null    float64\n",
            " 4   z(mm)           467 non-null    float64\n",
            " 5   dimension (mm)  467 non-null    float64\n",
            " 6   Finish          467 non-null    object \n",
            " 7   technolgy       467 non-null    object \n",
            " 8   material        467 non-null    object \n",
            " 9   color           467 non-null    object \n",
            " 10  Process         467 non-null    object \n",
            "dtypes: float64(4), object(7)\n",
            "memory usage: 40.3+ KB\n"
          ]
        }
      ]
    },
    {
      "cell_type": "code",
      "source": [
        "print (y)"
      ],
      "metadata": {
        "colab": {
          "base_uri": "https://localhost:8080/"
        },
        "id": "5DWrv9A1bipj",
        "outputId": "c9aed252-69aa-4a48-ca0c-3f1876aa1bd4"
      },
      "execution_count": null,
      "outputs": [
        {
          "output_type": "stream",
          "name": "stdout",
          "text": [
            "0       33.92\n",
            "1      160.63\n",
            "2      154.38\n",
            "3       43.97\n",
            "4       40.29\n",
            "        ...  \n",
            "462    110.46\n",
            "463    376.99\n",
            "464    377.92\n",
            "465     336.7\n",
            "466    285.66\n",
            "Name: price (in $ ), Length: 467, dtype: object\n"
          ]
        }
      ]
    },
    {
      "cell_type": "markdown",
      "source": [
        "###Shuffling the data is an important step in many machine learning tasks. The main reason for shuffling the data is to remove any inherent ordering in the dataset, which can lead to bias in the learning process.\n",
        "\n",
        "For example, imagine a dataset where the samples are ordered by the value of the target variable. If we do not shuffle the data before splitting it into training and testing sets, we may end up with a training set that contains only low or high values of the target variable, while the testing set contains the opposite. This can lead to poor performance on the testing set, as the model has not been trained on a representative sample of the data.\n",
        "\n",
        "Shuffling the data can help to prevent this type of bias by ensuring that the samples are randomly distributed across the training and testing sets. In addition, shuffling the data can help to prevent overfitting by ensuring that the model does not memorize the order of the samples during training.\n",
        "\n"
      ],
      "metadata": {
        "id": "asg7wqA8baXa"
      }
    },
    {
      "cell_type": "markdown",
      "source": [
        "##If you split the data into training and testing sets without shuffling, you may end up with all the most recent customers in the testing set and all the older customers in the training set. This can lead to poor performance on the testing set, as the model has not been trained on a representative sample of the data.\n",
        "\n",
        "To avoid this issue, you should shuffle the data before splitting it into training and testing sets. This will ensure that the most recent customers are randomly distributed across the training and testing sets, and that the model is trained on a representative sample of the data. You can use the shuffle method in NumPy or Scikit-learn to shuffle the data before splitting it."
      ],
      "metadata": {
        "id": "CMjJqaTmcRSk"
      }
    },
    {
      "cell_type": "code",
      "source": [
        "from sklearn.utils import shuffle\n",
        "# Shuffle the data\n",
        "X, y = shuffle(X, y, random_state=42)"
      ],
      "metadata": {
        "id": "XZ6MYAYLFtAi"
      },
      "execution_count": null,
      "outputs": []
    },
    {
      "cell_type": "code",
      "source": [
        "print(y)"
      ],
      "metadata": {
        "colab": {
          "base_uri": "https://localhost:8080/"
        },
        "id": "-2L2QcxVbq74",
        "outputId": "61eed7b6-06d3-4353-b45e-469b5a18d1b5"
      },
      "execution_count": null,
      "outputs": [
        {
          "output_type": "stream",
          "name": "stdout",
          "text": [
            "55      15.98\n",
            "63      38.83\n",
            "33      11.18\n",
            "462    110.46\n",
            "72     138.58\n",
            "        ...  \n",
            "106      8.13\n",
            "270      3.25\n",
            "348    113.57\n",
            "435     29.66\n",
            "102    135.35\n",
            "Name: price (in $ ), Length: 467, dtype: object\n"
          ]
        }
      ]
    },
    {
      "cell_type": "code",
      "source": [
        "#split the data into training and testing sets  train_size = int(0.8 * len(X))\n",
        "\n",
        "X_train, X_test, y_train, y_test = train_test_split(X, y, test_size=0.2,random_state=42 )"
      ],
      "metadata": {
        "id": "iiU54ku4FzYa"
      },
      "execution_count": null,
      "outputs": []
    },
    {
      "cell_type": "code",
      "source": [
        "X_train"
      ],
      "metadata": {
        "colab": {
          "base_uri": "https://localhost:8080/",
          "height": 423
        },
        "id": "eIKapFy9hebx",
        "outputId": "69df4ad4-d59a-4f62-86c3-01f654b6738f"
      },
      "execution_count": null,
      "outputs": [
        {
          "output_type": "execute_result",
          "data": {
            "text/plain": [
              "    price (in $ )  x(mm)  y(mm)  z(mm)  dimension (mm)\n",
              "65          31.33  108.0  108.0    7.0       81648.000\n",
              "11          45.61   46.5   45.0   40.8       85374.000\n",
              "306          4.43    5.3    3.9    0.8          16.536\n",
              "296          8.03   40.0   40.0    2.0        3200.000\n",
              "199         27.44  100.0   14.7   12.9       18963.000\n",
              "..            ...    ...    ...    ...             ...\n",
              "24          71.26  148.0  148.0   20.0      438080.000\n",
              "333          8.06   14.0   14.1    5.2        1026.480\n",
              "27          66.70  145.0   46.5   40.8      275094.000\n",
              "344         20.51  128.1  120.0    2.0       30744.000\n",
              "57          11.52   35.0   35.0    5.0        6125.000\n",
              "\n",
              "[374 rows x 5 columns]"
            ],
            "text/html": [
              "\n",
              "  <div id=\"df-7ee6e901-c4da-4c96-8232-10e64efea717\">\n",
              "    <div class=\"colab-df-container\">\n",
              "      <div>\n",
              "<style scoped>\n",
              "    .dataframe tbody tr th:only-of-type {\n",
              "        vertical-align: middle;\n",
              "    }\n",
              "\n",
              "    .dataframe tbody tr th {\n",
              "        vertical-align: top;\n",
              "    }\n",
              "\n",
              "    .dataframe thead th {\n",
              "        text-align: right;\n",
              "    }\n",
              "</style>\n",
              "<table border=\"1\" class=\"dataframe\">\n",
              "  <thead>\n",
              "    <tr style=\"text-align: right;\">\n",
              "      <th></th>\n",
              "      <th>price (in $ )</th>\n",
              "      <th>x(mm)</th>\n",
              "      <th>y(mm)</th>\n",
              "      <th>z(mm)</th>\n",
              "      <th>dimension (mm)</th>\n",
              "    </tr>\n",
              "  </thead>\n",
              "  <tbody>\n",
              "    <tr>\n",
              "      <th>65</th>\n",
              "      <td>31.33</td>\n",
              "      <td>108.0</td>\n",
              "      <td>108.0</td>\n",
              "      <td>7.0</td>\n",
              "      <td>81648.000</td>\n",
              "    </tr>\n",
              "    <tr>\n",
              "      <th>11</th>\n",
              "      <td>45.61</td>\n",
              "      <td>46.5</td>\n",
              "      <td>45.0</td>\n",
              "      <td>40.8</td>\n",
              "      <td>85374.000</td>\n",
              "    </tr>\n",
              "    <tr>\n",
              "      <th>306</th>\n",
              "      <td>4.43</td>\n",
              "      <td>5.3</td>\n",
              "      <td>3.9</td>\n",
              "      <td>0.8</td>\n",
              "      <td>16.536</td>\n",
              "    </tr>\n",
              "    <tr>\n",
              "      <th>296</th>\n",
              "      <td>8.03</td>\n",
              "      <td>40.0</td>\n",
              "      <td>40.0</td>\n",
              "      <td>2.0</td>\n",
              "      <td>3200.000</td>\n",
              "    </tr>\n",
              "    <tr>\n",
              "      <th>199</th>\n",
              "      <td>27.44</td>\n",
              "      <td>100.0</td>\n",
              "      <td>14.7</td>\n",
              "      <td>12.9</td>\n",
              "      <td>18963.000</td>\n",
              "    </tr>\n",
              "    <tr>\n",
              "      <th>...</th>\n",
              "      <td>...</td>\n",
              "      <td>...</td>\n",
              "      <td>...</td>\n",
              "      <td>...</td>\n",
              "      <td>...</td>\n",
              "    </tr>\n",
              "    <tr>\n",
              "      <th>24</th>\n",
              "      <td>71.26</td>\n",
              "      <td>148.0</td>\n",
              "      <td>148.0</td>\n",
              "      <td>20.0</td>\n",
              "      <td>438080.000</td>\n",
              "    </tr>\n",
              "    <tr>\n",
              "      <th>333</th>\n",
              "      <td>8.06</td>\n",
              "      <td>14.0</td>\n",
              "      <td>14.1</td>\n",
              "      <td>5.2</td>\n",
              "      <td>1026.480</td>\n",
              "    </tr>\n",
              "    <tr>\n",
              "      <th>27</th>\n",
              "      <td>66.70</td>\n",
              "      <td>145.0</td>\n",
              "      <td>46.5</td>\n",
              "      <td>40.8</td>\n",
              "      <td>275094.000</td>\n",
              "    </tr>\n",
              "    <tr>\n",
              "      <th>344</th>\n",
              "      <td>20.51</td>\n",
              "      <td>128.1</td>\n",
              "      <td>120.0</td>\n",
              "      <td>2.0</td>\n",
              "      <td>30744.000</td>\n",
              "    </tr>\n",
              "    <tr>\n",
              "      <th>57</th>\n",
              "      <td>11.52</td>\n",
              "      <td>35.0</td>\n",
              "      <td>35.0</td>\n",
              "      <td>5.0</td>\n",
              "      <td>6125.000</td>\n",
              "    </tr>\n",
              "  </tbody>\n",
              "</table>\n",
              "<p>374 rows × 5 columns</p>\n",
              "</div>\n",
              "      <button class=\"colab-df-convert\" onclick=\"convertToInteractive('df-7ee6e901-c4da-4c96-8232-10e64efea717')\"\n",
              "              title=\"Convert this dataframe to an interactive table.\"\n",
              "              style=\"display:none;\">\n",
              "        \n",
              "  <svg xmlns=\"http://www.w3.org/2000/svg\" height=\"24px\"viewBox=\"0 0 24 24\"\n",
              "       width=\"24px\">\n",
              "    <path d=\"M0 0h24v24H0V0z\" fill=\"none\"/>\n",
              "    <path d=\"M18.56 5.44l.94 2.06.94-2.06 2.06-.94-2.06-.94-.94-2.06-.94 2.06-2.06.94zm-11 1L8.5 8.5l.94-2.06 2.06-.94-2.06-.94L8.5 2.5l-.94 2.06-2.06.94zm10 10l.94 2.06.94-2.06 2.06-.94-2.06-.94-.94-2.06-.94 2.06-2.06.94z\"/><path d=\"M17.41 7.96l-1.37-1.37c-.4-.4-.92-.59-1.43-.59-.52 0-1.04.2-1.43.59L10.3 9.45l-7.72 7.72c-.78.78-.78 2.05 0 2.83L4 21.41c.39.39.9.59 1.41.59.51 0 1.02-.2 1.41-.59l7.78-7.78 2.81-2.81c.8-.78.8-2.07 0-2.86zM5.41 20L4 18.59l7.72-7.72 1.47 1.35L5.41 20z\"/>\n",
              "  </svg>\n",
              "      </button>\n",
              "      \n",
              "  <style>\n",
              "    .colab-df-container {\n",
              "      display:flex;\n",
              "      flex-wrap:wrap;\n",
              "      gap: 12px;\n",
              "    }\n",
              "\n",
              "    .colab-df-convert {\n",
              "      background-color: #E8F0FE;\n",
              "      border: none;\n",
              "      border-radius: 50%;\n",
              "      cursor: pointer;\n",
              "      display: none;\n",
              "      fill: #1967D2;\n",
              "      height: 32px;\n",
              "      padding: 0 0 0 0;\n",
              "      width: 32px;\n",
              "    }\n",
              "\n",
              "    .colab-df-convert:hover {\n",
              "      background-color: #E2EBFA;\n",
              "      box-shadow: 0px 1px 2px rgba(60, 64, 67, 0.3), 0px 1px 3px 1px rgba(60, 64, 67, 0.15);\n",
              "      fill: #174EA6;\n",
              "    }\n",
              "\n",
              "    [theme=dark] .colab-df-convert {\n",
              "      background-color: #3B4455;\n",
              "      fill: #D2E3FC;\n",
              "    }\n",
              "\n",
              "    [theme=dark] .colab-df-convert:hover {\n",
              "      background-color: #434B5C;\n",
              "      box-shadow: 0px 1px 3px 1px rgba(0, 0, 0, 0.15);\n",
              "      filter: drop-shadow(0px 1px 2px rgba(0, 0, 0, 0.3));\n",
              "      fill: #FFFFFF;\n",
              "    }\n",
              "  </style>\n",
              "\n",
              "      <script>\n",
              "        const buttonEl =\n",
              "          document.querySelector('#df-7ee6e901-c4da-4c96-8232-10e64efea717 button.colab-df-convert');\n",
              "        buttonEl.style.display =\n",
              "          google.colab.kernel.accessAllowed ? 'block' : 'none';\n",
              "\n",
              "        async function convertToInteractive(key) {\n",
              "          const element = document.querySelector('#df-7ee6e901-c4da-4c96-8232-10e64efea717');\n",
              "          const dataTable =\n",
              "            await google.colab.kernel.invokeFunction('convertToInteractive',\n",
              "                                                     [key], {});\n",
              "          if (!dataTable) return;\n",
              "\n",
              "          const docLinkHtml = 'Like what you see? Visit the ' +\n",
              "            '<a target=\"_blank\" href=https://colab.research.google.com/notebooks/data_table.ipynb>data table notebook</a>'\n",
              "            + ' to learn more about interactive tables.';\n",
              "          element.innerHTML = '';\n",
              "          dataTable['output_type'] = 'display_data';\n",
              "          await google.colab.output.renderOutput(dataTable, element);\n",
              "          const docLink = document.createElement('div');\n",
              "          docLink.innerHTML = docLinkHtml;\n",
              "          element.appendChild(docLink);\n",
              "        }\n",
              "      </script>\n",
              "    </div>\n",
              "  </div>\n",
              "  "
            ]
          },
          "metadata": {},
          "execution_count": 147
        }
      ]
    },
    {
      "cell_type": "code",
      "source": [
        "X_test"
      ],
      "metadata": {
        "colab": {
          "base_uri": "https://localhost:8080/",
          "height": 423
        },
        "id": "7YNlJv6whkAB",
        "outputId": "af773283-566c-413c-f855-9a1ff79e4362"
      },
      "execution_count": null,
      "outputs": [
        {
          "output_type": "execute_result",
          "data": {
            "text/plain": [
              "    price (in $ )  x(mm)  y(mm)  z(mm)  dimension (mm)\n",
              "131         51.80  191.0   34.0  34.00      220796.000\n",
              "175         127.1  122.6   59.0  91.45      661494.430\n",
              "90          52.07   79.0   35.5  35.30       98998.850\n",
              "107         23.61   80.2   48.7   7.70       30074.198\n",
              "426         31.47   35.0   30.4  25.90       27557.600\n",
              "..            ...    ...    ...    ...             ...\n",
              "166          8.21   44.2   33.0  29.50       43028.700\n",
              "226          9.91   37.7   10.5   5.00        1979.250\n",
              "346        188.53  193.2  193.2  18.40      686802.816\n",
              "265         39.02  108.0   30.0  18.20       58968.000\n",
              "191         96.74  120.0  120.0  57.00      820800.000\n",
              "\n",
              "[94 rows x 5 columns]"
            ],
            "text/html": [
              "\n",
              "  <div id=\"df-6658c1ae-0d6b-4340-a37d-ad8fe0e685db\">\n",
              "    <div class=\"colab-df-container\">\n",
              "      <div>\n",
              "<style scoped>\n",
              "    .dataframe tbody tr th:only-of-type {\n",
              "        vertical-align: middle;\n",
              "    }\n",
              "\n",
              "    .dataframe tbody tr th {\n",
              "        vertical-align: top;\n",
              "    }\n",
              "\n",
              "    .dataframe thead th {\n",
              "        text-align: right;\n",
              "    }\n",
              "</style>\n",
              "<table border=\"1\" class=\"dataframe\">\n",
              "  <thead>\n",
              "    <tr style=\"text-align: right;\">\n",
              "      <th></th>\n",
              "      <th>price (in $ )</th>\n",
              "      <th>x(mm)</th>\n",
              "      <th>y(mm)</th>\n",
              "      <th>z(mm)</th>\n",
              "      <th>dimension (mm)</th>\n",
              "    </tr>\n",
              "  </thead>\n",
              "  <tbody>\n",
              "    <tr>\n",
              "      <th>131</th>\n",
              "      <td>51.80</td>\n",
              "      <td>191.0</td>\n",
              "      <td>34.0</td>\n",
              "      <td>34.00</td>\n",
              "      <td>220796.000</td>\n",
              "    </tr>\n",
              "    <tr>\n",
              "      <th>175</th>\n",
              "      <td>127.1</td>\n",
              "      <td>122.6</td>\n",
              "      <td>59.0</td>\n",
              "      <td>91.45</td>\n",
              "      <td>661494.430</td>\n",
              "    </tr>\n",
              "    <tr>\n",
              "      <th>90</th>\n",
              "      <td>52.07</td>\n",
              "      <td>79.0</td>\n",
              "      <td>35.5</td>\n",
              "      <td>35.30</td>\n",
              "      <td>98998.850</td>\n",
              "    </tr>\n",
              "    <tr>\n",
              "      <th>107</th>\n",
              "      <td>23.61</td>\n",
              "      <td>80.2</td>\n",
              "      <td>48.7</td>\n",
              "      <td>7.70</td>\n",
              "      <td>30074.198</td>\n",
              "    </tr>\n",
              "    <tr>\n",
              "      <th>426</th>\n",
              "      <td>31.47</td>\n",
              "      <td>35.0</td>\n",
              "      <td>30.4</td>\n",
              "      <td>25.90</td>\n",
              "      <td>27557.600</td>\n",
              "    </tr>\n",
              "    <tr>\n",
              "      <th>...</th>\n",
              "      <td>...</td>\n",
              "      <td>...</td>\n",
              "      <td>...</td>\n",
              "      <td>...</td>\n",
              "      <td>...</td>\n",
              "    </tr>\n",
              "    <tr>\n",
              "      <th>166</th>\n",
              "      <td>8.21</td>\n",
              "      <td>44.2</td>\n",
              "      <td>33.0</td>\n",
              "      <td>29.50</td>\n",
              "      <td>43028.700</td>\n",
              "    </tr>\n",
              "    <tr>\n",
              "      <th>226</th>\n",
              "      <td>9.91</td>\n",
              "      <td>37.7</td>\n",
              "      <td>10.5</td>\n",
              "      <td>5.00</td>\n",
              "      <td>1979.250</td>\n",
              "    </tr>\n",
              "    <tr>\n",
              "      <th>346</th>\n",
              "      <td>188.53</td>\n",
              "      <td>193.2</td>\n",
              "      <td>193.2</td>\n",
              "      <td>18.40</td>\n",
              "      <td>686802.816</td>\n",
              "    </tr>\n",
              "    <tr>\n",
              "      <th>265</th>\n",
              "      <td>39.02</td>\n",
              "      <td>108.0</td>\n",
              "      <td>30.0</td>\n",
              "      <td>18.20</td>\n",
              "      <td>58968.000</td>\n",
              "    </tr>\n",
              "    <tr>\n",
              "      <th>191</th>\n",
              "      <td>96.74</td>\n",
              "      <td>120.0</td>\n",
              "      <td>120.0</td>\n",
              "      <td>57.00</td>\n",
              "      <td>820800.000</td>\n",
              "    </tr>\n",
              "  </tbody>\n",
              "</table>\n",
              "<p>94 rows × 5 columns</p>\n",
              "</div>\n",
              "      <button class=\"colab-df-convert\" onclick=\"convertToInteractive('df-6658c1ae-0d6b-4340-a37d-ad8fe0e685db')\"\n",
              "              title=\"Convert this dataframe to an interactive table.\"\n",
              "              style=\"display:none;\">\n",
              "        \n",
              "  <svg xmlns=\"http://www.w3.org/2000/svg\" height=\"24px\"viewBox=\"0 0 24 24\"\n",
              "       width=\"24px\">\n",
              "    <path d=\"M0 0h24v24H0V0z\" fill=\"none\"/>\n",
              "    <path d=\"M18.56 5.44l.94 2.06.94-2.06 2.06-.94-2.06-.94-.94-2.06-.94 2.06-2.06.94zm-11 1L8.5 8.5l.94-2.06 2.06-.94-2.06-.94L8.5 2.5l-.94 2.06-2.06.94zm10 10l.94 2.06.94-2.06 2.06-.94-2.06-.94-.94-2.06-.94 2.06-2.06.94z\"/><path d=\"M17.41 7.96l-1.37-1.37c-.4-.4-.92-.59-1.43-.59-.52 0-1.04.2-1.43.59L10.3 9.45l-7.72 7.72c-.78.78-.78 2.05 0 2.83L4 21.41c.39.39.9.59 1.41.59.51 0 1.02-.2 1.41-.59l7.78-7.78 2.81-2.81c.8-.78.8-2.07 0-2.86zM5.41 20L4 18.59l7.72-7.72 1.47 1.35L5.41 20z\"/>\n",
              "  </svg>\n",
              "      </button>\n",
              "      \n",
              "  <style>\n",
              "    .colab-df-container {\n",
              "      display:flex;\n",
              "      flex-wrap:wrap;\n",
              "      gap: 12px;\n",
              "    }\n",
              "\n",
              "    .colab-df-convert {\n",
              "      background-color: #E8F0FE;\n",
              "      border: none;\n",
              "      border-radius: 50%;\n",
              "      cursor: pointer;\n",
              "      display: none;\n",
              "      fill: #1967D2;\n",
              "      height: 32px;\n",
              "      padding: 0 0 0 0;\n",
              "      width: 32px;\n",
              "    }\n",
              "\n",
              "    .colab-df-convert:hover {\n",
              "      background-color: #E2EBFA;\n",
              "      box-shadow: 0px 1px 2px rgba(60, 64, 67, 0.3), 0px 1px 3px 1px rgba(60, 64, 67, 0.15);\n",
              "      fill: #174EA6;\n",
              "    }\n",
              "\n",
              "    [theme=dark] .colab-df-convert {\n",
              "      background-color: #3B4455;\n",
              "      fill: #D2E3FC;\n",
              "    }\n",
              "\n",
              "    [theme=dark] .colab-df-convert:hover {\n",
              "      background-color: #434B5C;\n",
              "      box-shadow: 0px 1px 3px 1px rgba(0, 0, 0, 0.15);\n",
              "      filter: drop-shadow(0px 1px 2px rgba(0, 0, 0, 0.3));\n",
              "      fill: #FFFFFF;\n",
              "    }\n",
              "  </style>\n",
              "\n",
              "      <script>\n",
              "        const buttonEl =\n",
              "          document.querySelector('#df-6658c1ae-0d6b-4340-a37d-ad8fe0e685db button.colab-df-convert');\n",
              "        buttonEl.style.display =\n",
              "          google.colab.kernel.accessAllowed ? 'block' : 'none';\n",
              "\n",
              "        async function convertToInteractive(key) {\n",
              "          const element = document.querySelector('#df-6658c1ae-0d6b-4340-a37d-ad8fe0e685db');\n",
              "          const dataTable =\n",
              "            await google.colab.kernel.invokeFunction('convertToInteractive',\n",
              "                                                     [key], {});\n",
              "          if (!dataTable) return;\n",
              "\n",
              "          const docLinkHtml = 'Like what you see? Visit the ' +\n",
              "            '<a target=\"_blank\" href=https://colab.research.google.com/notebooks/data_table.ipynb>data table notebook</a>'\n",
              "            + ' to learn more about interactive tables.';\n",
              "          element.innerHTML = '';\n",
              "          dataTable['output_type'] = 'display_data';\n",
              "          await google.colab.output.renderOutput(dataTable, element);\n",
              "          const docLink = document.createElement('div');\n",
              "          docLink.innerHTML = docLinkHtml;\n",
              "          element.appendChild(docLink);\n",
              "        }\n",
              "      </script>\n",
              "    </div>\n",
              "  </div>\n",
              "  "
            ]
          },
          "metadata": {},
          "execution_count": 148
        }
      ]
    },
    {
      "cell_type": "code",
      "source": [
        "# Print the shapes of the training and testing sets\n",
        "print(\"Training set shape:\", X_train.shape, y_train.shape)\n",
        "print(\"Testing set shape:\", X_test.shape, y_test.shape)"
      ],
      "metadata": {
        "colab": {
          "base_uri": "https://localhost:8080/"
        },
        "id": "W8hj1LfkVCQm",
        "outputId": "ff996b66-13d6-4775-e7ab-22fb96a3cb2d"
      },
      "execution_count": null,
      "outputs": [
        {
          "output_type": "stream",
          "name": "stdout",
          "text": [
            "Training set shape: (374, 5) (374,)\n",
            "Testing set shape: (94, 5) (94,)\n"
          ]
        }
      ]
    },
    {
      "cell_type": "code",
      "source": [
        "from sklearn.tree import DecisionTreeRegressor\n",
        "from sklearn.svm import SVR\n",
        "from sklearn.ensemble import RandomForestRegressor\n",
        "from sklearn.model_selection import train_test_split\n",
        "from sklearn.metrics import mean_squared_error\n",
        "from sklearn.model_selection import cross_val_score\n",
        "from sklearn.preprocessing import StandardScaler\n",
        "from sklearn.preprocessing import LabelEncoder\n",
        "from sklearn.metrics import r2_score\n",
        "from sklearn.linear_model import LinearRegression, Ridge, Lasso\n",
        "from sklearn.model_selection import GridSearchCV\n",
        "import xgboost as xgb"
      ],
      "metadata": {
        "id": "DZNvZTE4GPHr"
      },
      "execution_count": null,
      "outputs": []
    },
    {
      "cell_type": "code",
      "source": [
        "df['price (in $ )'].astype(float)"
      ],
      "metadata": {
        "colab": {
          "base_uri": "https://localhost:8080/"
        },
        "id": "dwcBHuW9NGOM",
        "outputId": "9725ef10-b8ed-4e01-a08c-535b375acae4"
      },
      "execution_count": null,
      "outputs": [
        {
          "output_type": "execute_result",
          "data": {
            "text/plain": [
              "0       33.92\n",
              "1      160.63\n",
              "2      154.38\n",
              "3       43.97\n",
              "4       40.29\n",
              "        ...  \n",
              "463    110.46\n",
              "464    376.99\n",
              "465    377.92\n",
              "466    336.70\n",
              "467    285.66\n",
              "Name: price (in $ ), Length: 468, dtype: float64"
            ]
          },
          "metadata": {},
          "execution_count": 151
        }
      ]
    },
    {
      "cell_type": "code",
      "source": [
        "#Data Preprocessing\n",
        "scaler = StandardScaler()\n",
        "X_train_scaled = scaler.fit_transform(X_train)\n",
        "X_test_scaled = scaler.transform(X_test)"
      ],
      "metadata": {
        "id": "KKkn-MfGF2Et"
      },
      "execution_count": null,
      "outputs": []
    },
    {
      "cell_type": "code",
      "source": [
        "# Fit the linear regression model to the training data\n",
        "reg = LinearRegression()\n",
        "reg.fit(X_train, y_train)\n",
        "\n",
        "# Use the model to make predictions on the test data\n",
        "y_pred = reg.predict(X_test)"
      ],
      "metadata": {
        "id": "xe367kINT-7d"
      },
      "execution_count": null,
      "outputs": []
    },
    {
      "cell_type": "code",
      "source": [
        "# Calculate the mean squared error and root mean squared error\n",
        "mse = mean_squared_error(y_test, y_pred)\n",
        "rmse = np.sqrt(mse)"
      ],
      "metadata": {
        "id": "A8kdXgx9UgdO"
      },
      "execution_count": null,
      "outputs": []
    },
    {
      "cell_type": "code",
      "source": [
        "print(\"Linear Regression:\")\n",
        "print(\"MSE:\", mse)\n",
        "print(\"RMSE:\", rmse)\n",
        "\n",
        "\n",
        "r2 = r2_score(y_test, y_pred)\n",
        "print(f\"R^2 score: {r2}\")\n",
        "print(\"Learned coefficients: \", reg.coef_)\n",
        "print(\"Intercept: \", reg.intercept_)\n",
        "predicted_price = reg.predict([[92.5,43.97,46.5,45.0,40.8]])\n",
        "print(\"Predicted price:\", predicted_price)"
      ],
      "metadata": {
        "colab": {
          "base_uri": "https://localhost:8080/"
        },
        "id": "0Wj0gsyCUVEg",
        "outputId": "c2787c90-1d4e-47b9-d32d-8cc76ee1c98e"
      },
      "execution_count": null,
      "outputs": [
        {
          "output_type": "stream",
          "name": "stdout",
          "text": [
            "Linear Regression:\n",
            "MSE: 6.052171076549845e-26\n",
            "RMSE: 2.460116069731232e-13\n",
            "R^2 score: 1.0\n",
            "Learned coefficients:  [ 1.00000000e+00  1.29301294e-16 -5.53333262e-17  5.38437490e-17\n",
            "  2.03076183e-20]\n",
            "Intercept:  -1.1368683772161603e-13\n",
            "Predicted price: [92.5]\n"
          ]
        },
        {
          "output_type": "stream",
          "name": "stderr",
          "text": [
            "/usr/local/lib/python3.10/dist-packages/sklearn/base.py:439: UserWarning: X does not have valid feature names, but LinearRegression was fitted with feature names\n",
            "  warnings.warn(\n"
          ]
        }
      ]
    }
  ]
}